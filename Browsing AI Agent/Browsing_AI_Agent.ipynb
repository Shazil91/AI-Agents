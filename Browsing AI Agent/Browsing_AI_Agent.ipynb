{
  "nbformat": 4,
  "nbformat_minor": 0,
  "metadata": {
    "colab": {
      "provenance": []
    },
    "kernelspec": {
      "name": "python3",
      "display_name": "Python 3"
    },
    "language_info": {
      "name": "python"
    }
  },
  "cells": [
    {
      "cell_type": "markdown",
      "source": [
        "## Description:\n",
        "\n",
        "This AI Browsing Agent is an intelligent assistant designed to explore, extract, and summarize information from the web efficiently.\n",
        "\n",
        "It breaks down complex user queries into smaller, targeted search actions and optimizes search terms for more relevant results."
      ],
      "metadata": {
        "id": "OtwAjUTVncAF"
      }
    },
    {
      "cell_type": "code",
      "source": [
        "%%capture --no-stderr\n",
        "%pip install -U  langgraph tavily-python wikipedia langchain_google_genai langchain_community"
      ],
      "metadata": {
        "id": "G8H31mTBRSZX"
      },
      "execution_count": null,
      "outputs": []
    },
    {
      "cell_type": "code",
      "source": [
        "import os\n",
        "from google.colab import userdata\n",
        "\n",
        "%env GOOGLE_API_KEY = {userdata.get('GEMINI_API_KEY')}\n",
        "\n",
        "%env LANGCHAIN_API_KEY = {userdata.get('LANGCHAIN_API_KEY')}\n",
        "os.environ[\"LANGCHAIN_TRACING_V2\"] = \"true\"\n",
        "os.environ[\"LANGCHAIN_PROJECT\"] = \"langchain-academy\""
      ],
      "metadata": {
        "id": "j-A1TyXmRWXp"
      },
      "execution_count": null,
      "outputs": []
    },
    {
      "cell_type": "code",
      "source": [
        "import os, getpass\n",
        "\n",
        "%env TAVILY_API_KEY = {userdata.get('TAVILY_API_KEY')}\n",
        "\n",
        "def _set_env(var: str):\n",
        "    if not os.environ.get(var):\n",
        "        os.environ[var] = getpass.getpass(f\"{var}: \")\n",
        "_set_env(\"TAVILY_API_KEY\")"
      ],
      "metadata": {
        "id": "Krakk0Z5Q24a"
      },
      "execution_count": null,
      "outputs": []
    },
    {
      "cell_type": "markdown",
      "source": [
        "## Defining ChatModel and State:"
      ],
      "metadata": {
        "id": "sZuFNchnYpnT"
      }
    },
    {
      "cell_type": "code",
      "source": [
        "from langchain_google_genai import ChatGoogleGenerativeAI\n",
        "llm: ChatGoogleGenerativeAI = ChatGoogleGenerativeAI(model = \"gemini-1.5-flash\")"
      ],
      "metadata": {
        "id": "P7z2TzBRQ76z"
      },
      "execution_count": null,
      "outputs": []
    },
    {
      "cell_type": "code",
      "execution_count": null,
      "metadata": {
        "id": "nlMpTpk7Qjij"
      },
      "outputs": [],
      "source": [
        "from typing import TypedDict, Annotated\n",
        "import operator\n",
        "\n",
        "class State(TypedDict):\n",
        "    question: str  # User's query\n",
        "    answer: str  # Final synthesized answer\n",
        "    context: Annotated[list, operator.add]  # Web search results or context\n",
        "    subtasks: list[str]  # Decomposed subtasks from the query"
      ]
    },
    {
      "cell_type": "markdown",
      "source": [
        "## Query Decomposition Node:\n",
        "\n",
        "Purpose: Break down the user's query into smaller, actionable subtasks."
      ],
      "metadata": {
        "id": "nUdcdWR4TUGg"
      }
    },
    {
      "cell_type": "code",
      "source": [
        "def query_decomposition(state: State) -> State:\n",
        "    \"\"\"\n",
        "    Break down the user's query into smaller, actionable subtasks.\n",
        "\n",
        "    Args:\n",
        "        state (State): The current state containing the user's query.\n",
        "\n",
        "    Returns:\n",
        "        State: The updated state with the decomposed subtasks.\n",
        "    \"\"\"\n",
        "    try:\n",
        "        # Ensure the input state has the required structure\n",
        "        if \"question\" not in state or not isinstance(state[\"question\"], str):\n",
        "            raise ValueError(\"The state must contain a 'question' key with a non-empty string value.\")\n",
        "\n",
        "        # Construct the prompt for the LLM\n",
        "        prompt = f\"\"\"\n",
        "        Break down the following query into smaller, actionable tasks:\n",
        "        {state['question']}\n",
        "        Provide each task as a separate line.\n",
        "        \"\"\"\n",
        "\n",
        "        # LLM-based node to process the query\n",
        "        decomposition_result = llm.invoke(\n",
        "            [\n",
        "                SystemMessage(content=\"Break the given query into clear, actionable subtasks to address it effectively.\"),\n",
        "                HumanMessage(content=prompt),\n",
        "            ]\n",
        "        )\n",
        "\n",
        "        # Validate the response from the LLM\n",
        "        if not decomposition_result or not hasattr(decomposition_result, \"content\"):\n",
        "            raise RuntimeError(\"Failed to get a valid response from the Agent.\")\n",
        "\n",
        "        # Parse the response into a list of subtasks\n",
        "        subtasks = decomposition_result.content.strip().split(\"\\n\")\n",
        "\n",
        "        # Clean and filter the subtasks\n",
        "        state[\"subtasks\"] = [task.strip() for task in subtasks if task.strip()]\n",
        "\n",
        "    except Exception as e:\n",
        "        # Log the error and update the state with an error message\n",
        "        error_message = f\"Error during query decomposition: {str(e)}\"\n",
        "        state[\"error\"] = error_message\n",
        "        state[\"subtasks\"] = []\n",
        "        print(error_message)\n",
        "\n",
        "    return state\n"
      ],
      "metadata": {
        "id": "zxnHrl_LQtwN"
      },
      "execution_count": null,
      "outputs": []
    },
    {
      "cell_type": "markdown",
      "source": [
        "## Search Web Node:\n",
        "\n",
        "Purpose: Searches the web through tavily search tool."
      ],
      "metadata": {
        "id": "ss6IO_76TlsA"
      }
    },
    {
      "cell_type": "code",
      "source": [
        "from langchain_core.messages import HumanMessage, SystemMessage\n",
        "\n",
        "from langchain_community.document_loaders import WikipediaLoader\n",
        "from langchain_community.tools.tavily_search import TavilySearchResults\n",
        "\n",
        "def search_web(state):\n",
        "\n",
        "    \"\"\" Retrieve docs from web search \"\"\"\n",
        "\n",
        "    # Search\n",
        "    tavily_search = TavilySearchResults(max_results=3)\n",
        "    search_docs = tavily_search.invoke(state['question'])\n",
        "\n",
        "     # Format\n",
        "    formatted_search_docs = \"\\n\\n---\\n\\n\".join(\n",
        "        [\n",
        "            f'<Document href=\"{doc[\"url\"]}\"/>\\n{doc[\"content\"]}\\n</Document>'\n",
        "            for doc in search_docs\n",
        "        ]\n",
        "    )\n",
        "\n",
        "    return {\"context\": [formatted_search_docs]}"
      ],
      "metadata": {
        "id": "WPxINkJQRydP"
      },
      "execution_count": null,
      "outputs": []
    },
    {
      "cell_type": "markdown",
      "source": [
        "## Search Wikipedia Node"
      ],
      "metadata": {
        "id": "uNFL021oTx2x"
      }
    },
    {
      "cell_type": "code",
      "source": [
        "def search_wikipedia(state):\n",
        "\n",
        "    \"\"\" Retrieve docs from wikipedia \"\"\"\n",
        "\n",
        "    # Search\n",
        "\n",
        "    search_docs = WikipediaLoader(query=state['question'],\n",
        "                                  load_max_docs=2).load()\n",
        "\n",
        "     # Format\n",
        "    formatted_search_docs = \"\\n\\n---\\n\\n\".join(\n",
        "        [\n",
        "            f'<Document source=\"{doc.metadata[\"source\"]}\" page=\"{doc.metadata.get(\"page\", \"\")}\"/>\\n{doc.page_content}\\n</Document>'\n",
        "            for doc in search_docs\n",
        "        ]\n",
        "    )\n",
        "\n",
        "    return {\"context\": [formatted_search_docs]}"
      ],
      "metadata": {
        "id": "C3-wJ-4NR5Wi"
      },
      "execution_count": null,
      "outputs": []
    },
    {
      "cell_type": "markdown",
      "source": [
        "## Generate Answer Node:\n",
        "\n",
        "The purpose of the generate_answer node is to generate a concise and accurate response to the user's question by leveraging the provided context. It also tracks progress at key stages to keep users informed during the answer-generation process."
      ],
      "metadata": {
        "id": "JZkt-0suT3uA"
      }
    },
    {
      "cell_type": "code",
      "source": [
        "def generate_answer(state):\n",
        "\n",
        "    \"\"\" Node to answer a question \"\"\"\n",
        "\n",
        "    # Get state\n",
        "    context = state[\"context\"]\n",
        "    question = state[\"question\"]\n",
        "\n",
        "    # Template\n",
        "    answer_template = \"\"\"Answer the question {question} using this context: {context}\"\"\"\n",
        "    answer_instructions = answer_template.format(question=question,\n",
        "                                                       context=context)\n",
        "\n",
        "    # Answer\n",
        "    answer = llm.invoke([SystemMessage(content=answer_instructions)]+[HumanMessage(content=f\"Answer the question.\")])\n",
        "\n",
        "    # Append it to state\n",
        "    return {\"answer\": answer}\n"
      ],
      "metadata": {
        "id": "9HenQx-8vTft"
      },
      "execution_count": null,
      "outputs": []
    },
    {
      "cell_type": "markdown",
      "source": [
        "## Building the Graph"
      ],
      "metadata": {
        "id": "Z4TNq2RdUfZb"
      }
    },
    {
      "cell_type": "code",
      "source": [
        "from IPython.display import Image, display\n",
        "from langgraph.graph import StateGraph, START, END\n",
        "from langgraph.graph.state import CompiledStateGraph\n",
        "import pprint\n",
        "\n",
        "builder: StateGraph = StateGraph(State)\n",
        "\n",
        "builder.add_node(\"query_decomposition\", query_decomposition)\n",
        "builder.add_node(\"search_web\",search_web)\n",
        "builder.add_node(\"search_wikipedia\", search_wikipedia)\n",
        "builder.add_node(\"generate_answer\", generate_answer)\n",
        "\n",
        "builder.add_edge(START, \"query_decomposition\")\n",
        "builder.add_edge(\"query_decomposition\", \"search_web\")\n",
        "builder.add_edge(\"query_decomposition\", \"search_wikipedia\")\n",
        "builder.add_edge(\"search_wikipedia\", \"generate_answer\")\n",
        "builder.add_edge(\"search_web\", \"generate_answer\")\n",
        "builder.add_edge(\"generate_answer\", END)\n",
        "\n",
        "graph: CompiledStateGraph = builder.compile()\n",
        "\n",
        "display(Image(graph.get_graph().draw_mermaid_png()))"
      ],
      "metadata": {
        "colab": {
          "base_uri": "https://localhost:8080/",
          "height": 449
        },
        "id": "-IKrib2mS__6",
        "outputId": "a0445cc5-fd33-419f-c002-c0f97e94823d"
      },
      "execution_count": null,
      "outputs": [
        {
          "output_type": "display_data",
          "data": {
            "image/png": "[encoded data removed]",
            "text/plain": [
              "<IPython.core.display.Image object>"
            ]
          },
          "metadata": {}
        }
      ]
    },
    {
      "cell_type": "markdown",
      "source": [
        "## Graph Invoke"
      ],
      "metadata": {
        "id": "OPWClC3zVJcd"
      }
    },
    {
      "cell_type": "code",
      "source": [
        "result = graph.invoke({\"question\": \"Best places to visit in South America for adventure tourism.\"})\n",
        "\n",
        "pprint.pprint(result['answer'].content)"
      ],
      "metadata": {
        "colab": {
          "base_uri": "https://localhost:8080/"
        },
        "id": "e_Fg54DXiJ5X",
        "outputId": "7f62d522-d257-4774-aab9-49464ba22e07"
      },
      "execution_count": null,
      "outputs": [
        {
          "output_type": "stream",
          "name": "stdout",
          "text": [
            "('Based on the provided text, several South American locations stand out as '\n",
            " 'excellent destinations for adventure tourism:\\n'\n",
            " '\\n'\n",
            " '* **Torres del Paine National Park (Chile):**  Known for its diverse '\n",
            " 'ecosystems and stunning scenery within the Andes Mountains.\\n'\n",
            " '\\n'\n",
            " '* **The Andes Mountains (various countries):**  Offering stunning views and '\n",
            " 'a variety of outdoor activities.\\n'\n",
            " '\\n'\n",
            " '* **Los Roques (Venezuela):**  Described as having pristine beauty and '\n",
            " 'diverse activities.\\n'\n",
            " '\\n'\n",
            " '* **Tierra del Fuego (Chile/Argentina):**  Unique location and stunning '\n",
            " 'scenery.\\n'\n",
            " '\\n'\n",
            " '* **Amazon Rainforest/River/Basin (various countries):**  Offers many '\n",
            " 'cultural and adventurous experiences.\\n'\n",
            " '\\n'\n",
            " '* **Iguazu Falls (Argentina/Brazil):**  A popular natural wonder.\\n'\n",
            " '\\n'\n",
            " '* **Pantanal Wetlands (Brazil):** Another popular natural wonder.\\n'\n",
            " '\\n'\n",
            " '* **Ecuadorian Andes:**  Features bike trips through stunning landscapes '\n",
            " '(Cotopaxi, Quilotoa, Chimborazo).\\n'\n",
            " '\\n'\n",
            " \"* **Bolivia's Death Road:**  A thrilling cycling adventure.\\n\"\n",
            " '\\n'\n",
            " \"* **Colombia's Lost City:**  A trek to an ancient site.\\n\"\n",
            " '\\n'\n",
            " '\\n'\n",
            " 'The documents also mention other locations like Patagonia, Ilha Grande '\n",
            " '(Brazil), Lake Otun (Colombia), Los Nevados National Park (Colombia), Machu '\n",
            " 'Picchu (Peru), and Salar de Uyuni (Bolivia) as potential adventure travel '\n",
            " 'destinations, though less detail is provided about specific activities.  The '\n",
            " 'choice will ultimately depend on the type of adventure sought.')\n"
          ]
        }
      ]
    },
    {
      "cell_type": "code",
      "source": [
        "result = graph.invoke({\"question\": \"What are the adventure sports that help build endurance?\"})\n",
        "\n",
        "pprint.pprint(result['answer'].content)"
      ],
      "metadata": {
        "colab": {
          "base_uri": "https://localhost:8080/"
        },
        "id": "XnNQic_BmPmh",
        "outputId": "d6d05b5b-b15b-4488-e936-536d761c6430"
      },
      "execution_count": null,
      "outputs": [
        {
          "output_type": "stream",
          "name": "stdout",
          "text": [
            "('Based on the provided text, several adventure sports help build endurance:\\n'\n",
            " '\\n'\n",
            " '* **Adventure racing:** This involves multiple disciplines like trekking, '\n",
            " 'mountain biking, and paddling, all requiring significant endurance.  The '\n",
            " 'text emphasizes that training for this sport focuses on building endurance '\n",
            " 'across all disciplines.\\n'\n",
            " '* **Long-distance running:** This is explicitly mentioned as a form of '\n",
            " 'endurance running, crucial for building stamina and cardiovascular fitness.  '\n",
            " \"It's highlighted as a key component of training for adventure races.  \"\n",
            " 'Variations include track running, road running, and cross-country running.\\n'\n",
            " '* **Ultramarathons:**  The example of Dean Karnazes, an ultramarathon '\n",
            " 'runner, showcases the extreme endurance required in this sport, involving '\n",
            " 'distances far beyond a standard marathon.\\n'\n",
            " '\\n'\n",
            " '\\n'\n",
            " 'While the text mentions other adventure sports like climbing and navigating '\n",
            " \"rapids, it doesn't directly link them to endurance building in the same way \"\n",
            " \"as the above.  However, it's reasonable to assume that these activities also \"\n",
            " 'require and develop significant endurance.')\n"
          ]
        }
      ]
    },
    {
      "cell_type": "code",
      "source": [
        "result"
      ],
      "metadata": {
        "colab": {
          "base_uri": "https://localhost:8080/"
        },
        "id": "q1ezB7AljrEc",
        "outputId": "9ab488c0-5efb-4a7d-9337-579675431600"
      },
      "execution_count": null,
      "outputs": [
        {
          "output_type": "execute_result",
          "data": {
            "text/plain": [
              "{'question': \"What are the world's oldest archeological sites?\",\n",
              " 'answer': AIMessage(content=\"Based on the provided text, Lomekwi 3 in Kenya is considered by some scholars to be the oldest known archaeological site in the world.  Another strong contender is a site in Ethiopia, though the text doesn't name it specifically.  The texts also mention other very old sites, such as Jericho (around 11,000 years old), but these are not definitively the *oldest*.\", additional_kwargs={}, response_metadata={'prompt_feedback': {'block_reason': 0, 'safety_ratings': []}, 'finish_reason': 'STOP', 'safety_ratings': []}, id='run-ed561938-5217-4d45-ad64-802f7387c210-0', usage_metadata={'input_tokens': 2639, 'output_tokens': 85, 'total_tokens': 2724, 'input_token_details': {'cache_read': 0}}),\n",
              " 'context': ['<Document href=\"https://www.livescience.com/oldest-archaeological-site.html\"/>\\nIt turns out, there are two spots — one in Kenya and the other in Ethiopia — that are considered the top candidates for world\\'s oldest archaeological sites, according to about a dozen scholars, all with expertise in prehistoric archaeology and anthropology, who spoke with Live Science. \"Lomekwi 3\\xa0is the oldest known archaeological site in the world,\" Jason Lewis, assistant director of the Turkana Basin Institute and a co-author of the paper, told Live Science in an email.\\n</Document>\\n\\n---\\n\\n<Document href=\"https://www.thearchaeologist.org/blog/top-9-oldest-archaeological-sites-in-the-world\"/>\\nJericho\\'s walls came tumbling down, and their ruins are the major tourist venue in this West Bank city established perhaps 11,000 years ago, among the oldest inhabited sites in the world. A nearby cable car takes visitors west to the Mountain of Temptation, where Jesus is said to have been tempted by the devil.\\n</Document>\\n\\n---\\n\\n<Document href=\"https://www.oldest.org/culture/archaeological-sites/\"/>\\n8 Oldest Artifacts in the World\\n8 Oldest Houses in the World\\n9 Oldest Ruins in the World\\n9 Oldest Buildings in the World\\n10 Oldest Cities in the World\\nRelated Post\\n13 Oldest Hymns In The World\\n7 Oldest Cave Arts in The World\\n7 Oldest Coins that Ever Existed\\n4 Oldest High School Students in the World\\n8 Oldest Universities in the U.K.\\nLeave a comment Cancel reply\\nYour email address will not be published. Cave of Altamira\\nAge:\\nover 27,000 years old (c.25,000 BCE)\\nLocation:\\xa0 Santillana del Mar, Cantabria, Spain\\nYear Discovered/Excavated:\\xa0 1868; not excavated until 1879\\nMain Use(s): :\\xa0 Cave settlement containing some of the oldest cave paintings in the world\\nphoto source:\\xa0 Wikimedia Commons\\nThe Cave of Altamira is one of Spain’s most famous archaeological sites. 4. Murujuga\\nAge:\\nabout 30,000 years old (c.28,000 BCE)\\nLocation:\\xa0 Dampier Archipelago, Western Australia\\nYear Discovered/Excavated:\\xa0 N/A; been in use by indigenous people for thousands of years\\nMain Use(s): :\\xa0 Sacred indigenous land containing one of the largest collections of petroglyphs\\nphoto source:\\xa0 Wikimedia Commons\\nMurujuga or the Burrup Peninsula is a sacred place to the Aboriginal people of Australia. Location:\\xa0 Ardèche, France\\nYear Discovered/Excavated:\\xa0 1994\\nMain Use(s): :\\xa0 Cave settlement containing some of the best-preserved cave paintings in the world\\nphoto source:\\xa0 Wikimedia Commons\\nThe Chauvet Cave in France is one of the most important sites of prehistoric art in the world. 7. Tell Qaramel\\nAge:\\nover 12,000 years (c.10,900 BCE)\\nLocation:\\xa0 Aleppo Governate, Syria\\nYear Discovered/Excavated:\\xa0 Late 1970s; excavation started in 1999\\nMain Use(s): :\\xa0 Settlement containing the world’s oldest towers\\nphoto source:\\xa0 Wikimedia Commons\\nEvidence of Tell Qaramel was discovered in the late 1970s, but excavation of the site did not begin until 1999.\\n</Document>',\n",
              "  '<Document source=\"https://en.wikipedia.org/wiki/List_of_oldest_extant_buildings\" page=\"\"/>\\nThis is a list of oldest extant buildings.\\n\\n\\n== Criteria ==\\nA building is defined as any human-made structure used or interface for supporting or sheltering any use or continuous occupancy. In order to qualify for this list, a structure must:\\n\\nbe a recognisable building;\\nincorporate features of building work from the claimed date to at least 1.5 metres (4.9 ft) in height;\\nbe largely complete or include building work to this height for most of its perimeter.\\ncontain an enclosed area with at least one entry point.\\nThis deliberately excludes ruins of limited height and statues. The list also excludes:\\n\\ndolmens, a type of single-chamber megalithic tomb, usually consisting of three or more upright stones supporting a large flat horizontal capstone. Dolmens were typically covered with earth or smaller stones to form a tumulus (which are included in the list). In many instances, that covering has weathered away, leaving only the stone \"skeleton\" of the burial mound intact. Neolithic dolmens are extremely numerous, with over 1,000 reported from Mecklenburg-Vorpommern in Germany alone.\\ncairns, which are simply large piles of loose stones (as opposed to chambered cairns)\\nstanding stone rings, such as Stonehenge, also do not count because they are not enclosed and do not have roofs.\\nDates for many of the oldest structures have been arrived at by radiocarbon dating and should be considered approximate.\\n\\n\\n== By age ==\\nThe following are amongst the oldest buildings in the world that have maintained the requirements to be such.  Occupation sites with older human made structures, such as those in Göbekli Tepe do exist, but the structures are monuments and do not meet the definition of building (which can be seen above). Many of the buildings within the list contain primarily bricks, but most importantly maintain their walls and roofs. There are numerous extant structures that survive in the Orkney islands of Scotland, some of the best known of which are part of the Heart of Neolithic Orkney World Heritage Site. The list also contains many large buildings from the Egyptian Age of the Pyramids.\\n\\n\\n== By continent ==\\nThe following are amongst the oldest known extant buildings on each of the major continents.\\n\\n\\n== By country ==\\nThe following are among the oldest buildings in their respective countries.\\n\\n\\n== By function, structure and building material ==\\nThe following are probably the oldest buildings of their type.\\n\\n\\n== See also ==\\nLists\\n\\nList of oldest buildings in Scotland\\nList of oldest buildings in the Americas\\nList of oldest buildings in the United Kingdom\\nList of oldest church buildings\\nList of oldest continuously inhabited cities\\nList of oldest synagogues\\nList of the oldest buildings in the United States\\nList of the oldest mosques\\nSites\\n\\nLos Millares, a Chalcolithic site in Almería, Spain including both ruins and reconstructions\\nAntequera Dolmens Site, Antequera Málaga Spain, a cultural heritage ensemble comprising 3 cultural monuments.\\n\\n\\n== References ==\\n</Document>\\n\\n---\\n\\n<Document source=\"https://en.wikipedia.org/wiki/List_of_oldest_church_buildings\" page=\"\"/>\\nThis article lists some but by no means all of the oldest known church buildings in the world. In most instances, buildings listed here were reconstructed numerous times and only fragments of the original buildings have survived. These surviving freestanding buildings were purposely constructed for use by congregations (or used at an early date). The dates are the approximate dates when they were built and/or reconstructed and/or first used by Christian congregations for worship.\\nThe term church may be used in the sense of \"Christian denomination\" or in the singular as the Christian Church as a whole. The \"church\" (Greek ekklēsía, \\'assembly\\') is traced to Pentecost and the beginning of the Christian mission in the first century and was not used in reference to a building.\\nAccording to the Catholic Encyclopedia the Cenacle (the site of the Last Supper) in Jerusalem was the \"first Christian church.\" The Dura-Europos church in Syria is the oldest surviving church building in the world, while the archaeological remains of both the Aqaba Church and the Megiddo church have been considered to be the world\\'s oldest known purpose-built church, erected in the Roman Empire\\'s administrative Diocese of the East in the 3rd century. Several authors have cited the Etchmiadzin Cathedral (Armenia\\'s mother church) as the oldest cathedral.\\nSt. Thaddeus Monastery or Qara Kelisa (meaning \\'black church\\') in Chaldoran County, Iran is also noted by UNESCO World Heritage Centre as relating to 66 AD: \"According to Armenian tradition such a location was chosen because saint Thaddeus built the earliest church—parts of which are still believed to be in place as the base of the old section—upon the ruins of the temple.\" In 66 AD, he as one of the Apostles and SanDokht (the daughter of the King or daughter of Abbot Simeon) and other Thaddeus\\' devotees were tortured and executed by Armenia\\'s King Sanatrouk or Sanadruk.\\n\\n\\n== Early Christianity to Late Antiquity ==\\n\\nChurch buildings of the 1st to 4th centuries (AD 30\\u200d–\\u200d400), either excavated archaeologically or substantially preserved.\\n\\n\\n=== Africa ===\\n\\n\\n=== Asia ===\\n\\n\\n=== Europe ===\\n\\n\\n== Late Antiquity to Early Middle Ages ==\\n\\nChurch buildings dating to between the 5th and 10th centuries (AD 400\\u200d–\\u200d900).\\n\\n\\n=== Africa ===\\n\\n\\n=== Asia ===\\n\\n\\n=== Europe ===\\n\\nThe Dead Cities of Syria feature ruins of many churches, all abandoned prior to the 8th century and many dating from the 4th and 5th centuries\\nSt. George\\'s Church, Rihab, Jordan, 1st to 8th centuries. Dates are contested by experts but area under the church may have been used for Christian worship as early as AD 33.\\nChurch of Sts. Constantine and Helen, Yabroud, Syria, 5th century, Built from Roman temple; Desecrated in 2014 by extremists in Syrian Civil War\\nAl-Aqiser church, built in 500s, oldest church building in Iraq (foundations, some walls remain).\\nSaint Elijah\\'s Monastery, near Mosul, Iraq is a 6th-century ruin and among the oldest monasteries in Iraq\\nSt. George\\'s Church, Izra, Syria, Built in the 6th century\\nSaint Hripsime Church, built AD 618 in Armenia (Armenian Apostolic)\\nThe Hanging Church, Built c. 690 on site of earlier church, possibly the oldest church building in Egypt (Coptic Orthodox)\\nAteni Sioni Church, early 7th century, Georgia\\nAnchiskhati Basilica, built in the 600s, the oldest church building in Tbilisi.\\nSão Pedro de Balsemão, built in the 7th century, possibly oldest church building in Portugal (Roman Catholic)\\nDensuş Church, built in 600s, oldest church building in Romania\\nSt Peter\\'s Church, Monkwearmouth, UK, porch and west wall date from AD 674\\nSt Paul\\'s Church, Jarrow, UK, parts – including the original dedication stone – date from AD 685\\nSt Peter’s Church, Titchfield, Hampshire, UK, some parts remain from c. 680\\nSt Laurence\\'s Church, Bradford-on-Avon, Wiltshire, UK, Anglo-Saxon, could have been founded by St Aldhelm c. AD 700, although its style suggests 10th or 11th century.\\nGreat Church, Elst, Netherlands, church built in the 15th\\n</Document>',\n",
              "  '<Document href=\"https://www.livescience.com/oldest-archaeological-site.html\"/>\\nIt turns out, there are two spots — one in Kenya and the other in Ethiopia — that are considered the top candidates for world\\'s oldest archaeological sites, according to about a dozen scholars, all with expertise in prehistoric archaeology and anthropology, who spoke with Live Science. \"Lomekwi 3\\xa0is the oldest known archaeological site in the world,\" Jason Lewis, assistant director of the Turkana Basin Institute and a co-author of the paper, told Live Science in an email.\\n</Document>\\n\\n---\\n\\n<Document href=\"https://www.thearchaeologist.org/blog/top-9-oldest-archaeological-sites-in-the-world\"/>\\nJericho\\'s walls came tumbling down, and their ruins are the major tourist venue in this West Bank city established perhaps 11,000 years ago, among the oldest inhabited sites in the world. A nearby cable car takes visitors west to the Mountain of Temptation, where Jesus is said to have been tempted by the devil.\\n</Document>\\n\\n---\\n\\n<Document href=\"https://www.oldest.org/culture/archaeological-sites/\"/>\\n8 Oldest Artifacts in the World\\n8 Oldest Houses in the World\\n9 Oldest Ruins in the World\\n9 Oldest Buildings in the World\\n10 Oldest Cities in the World\\nRelated Post\\n13 Oldest Hymns In The World\\n7 Oldest Cave Arts in The World\\n7 Oldest Coins that Ever Existed\\n4 Oldest High School Students in the World\\n8 Oldest Universities in the U.K.\\nLeave a comment Cancel reply\\nYour email address will not be published. Cave of Altamira\\nAge:\\nover 27,000 years old (c.25,000 BCE)\\nLocation:\\xa0 Santillana del Mar, Cantabria, Spain\\nYear Discovered/Excavated:\\xa0 1868; not excavated until 1879\\nMain Use(s): :\\xa0 Cave settlement containing some of the oldest cave paintings in the world\\nphoto source:\\xa0 Wikimedia Commons\\nThe Cave of Altamira is one of Spain’s most famous archaeological sites. 4. Murujuga\\nAge:\\nabout 30,000 years old (c.28,000 BCE)\\nLocation:\\xa0 Dampier Archipelago, Western Australia\\nYear Discovered/Excavated:\\xa0 N/A; been in use by indigenous people for thousands of years\\nMain Use(s): :\\xa0 Sacred indigenous land containing one of the largest collections of petroglyphs\\nphoto source:\\xa0 Wikimedia Commons\\nMurujuga or the Burrup Peninsula is a sacred place to the Aboriginal people of Australia. Location:\\xa0 Ardèche, France\\nYear Discovered/Excavated:\\xa0 1994\\nMain Use(s): :\\xa0 Cave settlement containing some of the best-preserved cave paintings in the world\\nphoto source:\\xa0 Wikimedia Commons\\nThe Chauvet Cave in France is one of the most important sites of prehistoric art in the world. 7. Tell Qaramel\\nAge:\\nover 12,000 years (c.10,900 BCE)\\nLocation:\\xa0 Aleppo Governate, Syria\\nYear Discovered/Excavated:\\xa0 Late 1970s; excavation started in 1999\\nMain Use(s): :\\xa0 Settlement containing the world’s oldest towers\\nphoto source:\\xa0 Wikimedia Commons\\nEvidence of Tell Qaramel was discovered in the late 1970s, but excavation of the site did not begin until 1999.\\n</Document>',\n",
              "  '<Document source=\"https://en.wikipedia.org/wiki/List_of_oldest_extant_buildings\" page=\"\"/>\\nThis is a list of oldest extant buildings.\\n\\n\\n== Criteria ==\\nA building is defined as any human-made structure used or interface for supporting or sheltering any use or continuous occupancy. In order to qualify for this list, a structure must:\\n\\nbe a recognisable building;\\nincorporate features of building work from the claimed date to at least 1.5 metres (4.9 ft) in height;\\nbe largely complete or include building work to this height for most of its perimeter.\\ncontain an enclosed area with at least one entry point.\\nThis deliberately excludes ruins of limited height and statues. The list also excludes:\\n\\ndolmens, a type of single-chamber megalithic tomb, usually consisting of three or more upright stones supporting a large flat horizontal capstone. Dolmens were typically covered with earth or smaller stones to form a tumulus (which are included in the list). In many instances, that covering has weathered away, leaving only the stone \"skeleton\" of the burial mound intact. Neolithic dolmens are extremely numerous, with over 1,000 reported from Mecklenburg-Vorpommern in Germany alone.\\ncairns, which are simply large piles of loose stones (as opposed to chambered cairns)\\nstanding stone rings, such as Stonehenge, also do not count because they are not enclosed and do not have roofs.\\nDates for many of the oldest structures have been arrived at by radiocarbon dating and should be considered approximate.\\n\\n\\n== By age ==\\nThe following are amongst the oldest buildings in the world that have maintained the requirements to be such.  Occupation sites with older human made structures, such as those in Göbekli Tepe do exist, but the structures are monuments and do not meet the definition of building (which can be seen above). Many of the buildings within the list contain primarily bricks, but most importantly maintain their walls and roofs. There are numerous extant structures that survive in the Orkney islands of Scotland, some of the best known of which are part of the Heart of Neolithic Orkney World Heritage Site. The list also contains many large buildings from the Egyptian Age of the Pyramids.\\n\\n\\n== By continent ==\\nThe following are amongst the oldest known extant buildings on each of the major continents.\\n\\n\\n== By country ==\\nThe following are among the oldest buildings in their respective countries.\\n\\n\\n== By function, structure and building material ==\\nThe following are probably the oldest buildings of their type.\\n\\n\\n== See also ==\\nLists\\n\\nList of oldest buildings in Scotland\\nList of oldest buildings in the Americas\\nList of oldest buildings in the United Kingdom\\nList of oldest church buildings\\nList of oldest continuously inhabited cities\\nList of oldest synagogues\\nList of the oldest buildings in the United States\\nList of the oldest mosques\\nSites\\n\\nLos Millares, a Chalcolithic site in Almería, Spain including both ruins and reconstructions\\nAntequera Dolmens Site, Antequera Málaga Spain, a cultural heritage ensemble comprising 3 cultural monuments.\\n\\n\\n== References ==\\n</Document>\\n\\n---\\n\\n<Document source=\"https://en.wikipedia.org/wiki/List_of_oldest_church_buildings\" page=\"\"/>\\nThis article lists some but by no means all of the oldest known church buildings in the world. In most instances, buildings listed here were reconstructed numerous times and only fragments of the original buildings have survived. These surviving freestanding buildings were purposely constructed for use by congregations (or used at an early date). The dates are the approximate dates when they were built and/or reconstructed and/or first used by Christian congregations for worship.\\nThe term church may be used in the sense of \"Christian denomination\" or in the singular as the Christian Church as a whole. The \"church\" (Greek ekklēsía, \\'assembly\\') is traced to Pentecost and the beginning of the Christian mission in the first century and was not used in reference to a building.\\nAccording to the Catholic Encyclopedia the Cenacle (the site of the Last Supper) in Jerusalem was the \"first Christian church.\" The Dura-Europos church in Syria is the oldest surviving church building in the world, while the archaeological remains of both the Aqaba Church and the Megiddo church have been considered to be the world\\'s oldest known purpose-built church, erected in the Roman Empire\\'s administrative Diocese of the East in the 3rd century. Several authors have cited the Etchmiadzin Cathedral (Armenia\\'s mother church) as the oldest cathedral.\\nSt. Thaddeus Monastery or Qara Kelisa (meaning \\'black church\\') in Chaldoran County, Iran is also noted by UNESCO World Heritage Centre as relating to 66 AD: \"According to Armenian tradition such a location was chosen because saint Thaddeus built the earliest church—parts of which are still believed to be in place as the base of the old section—upon the ruins of the temple.\" In 66 AD, he as one of the Apostles and SanDokht (the daughter of the King or daughter of Abbot Simeon) and other Thaddeus\\' devotees were tortured and executed by Armenia\\'s King Sanatrouk or Sanadruk.\\n\\n\\n== Early Christianity to Late Antiquity ==\\n\\nChurch buildings of the 1st to 4th centuries (AD 30\\u200d–\\u200d400), either excavated archaeologically or substantially preserved.\\n\\n\\n=== Africa ===\\n\\n\\n=== Asia ===\\n\\n\\n=== Europe ===\\n\\n\\n== Late Antiquity to Early Middle Ages ==\\n\\nChurch buildings dating to between the 5th and 10th centuries (AD 400\\u200d–\\u200d900).\\n\\n\\n=== Africa ===\\n\\n\\n=== Asia ===\\n\\n\\n=== Europe ===\\n\\nThe Dead Cities of Syria feature ruins of many churches, all abandoned prior to the 8th century and many dating from the 4th and 5th centuries\\nSt. George\\'s Church, Rihab, Jordan, 1st to 8th centuries. Dates are contested by experts but area under the church may have been used for Christian worship as early as AD 33.\\nChurch of Sts. Constantine and Helen, Yabroud, Syria, 5th century, Built from Roman temple; Desecrated in 2014 by extremists in Syrian Civil War\\nAl-Aqiser church, built in 500s, oldest church building in Iraq (foundations, some walls remain).\\nSaint Elijah\\'s Monastery, near Mosul, Iraq is a 6th-century ruin and among the oldest monasteries in Iraq\\nSt. George\\'s Church, Izra, Syria, Built in the 6th century\\nSaint Hripsime Church, built AD 618 in Armenia (Armenian Apostolic)\\nThe Hanging Church, Built c. 690 on site of earlier church, possibly the oldest church building in Egypt (Coptic Orthodox)\\nAteni Sioni Church, early 7th century, Georgia\\nAnchiskhati Basilica, built in the 600s, the oldest church building in Tbilisi.\\nSão Pedro de Balsemão, built in the 7th century, possibly oldest church building in Portugal (Roman Catholic)\\nDensuş Church, built in 600s, oldest church building in Romania\\nSt Peter\\'s Church, Monkwearmouth, UK, porch and west wall date from AD 674\\nSt Paul\\'s Church, Jarrow, UK, parts – including the original dedication stone – date from AD 685\\nSt Peter’s Church, Titchfield, Hampshire, UK, some parts remain from c. 680\\nSt Laurence\\'s Church, Bradford-on-Avon, Wiltshire, UK, Anglo-Saxon, could have been founded by St Aldhelm c. AD 700, although its style suggests 10th or 11th century.\\nGreat Church, Elst, Netherlands, church built in the 15th\\n</Document>'],\n",
              " 'subtasks': ['1. Define \"archeological site\" for the purpose of this query (e.g.,  include only sites with substantial evidence of human occupation, exclude purely geological formations).',\n",
              "  '2. Identify reliable sources of information on archeological sites and their dating (e.g., academic journals, reputable archeological databases, museum websites).',\n",
              "  '3. Compile a list of potential candidate sites from various geographical regions.',\n",
              "  '4. Research the dating methods used for each candidate site (e.g., radiocarbon dating, thermoluminescence dating).',\n",
              "  '5. Verify the dating accuracy and reliability for each site, considering potential margins of error.',\n",
              "  '6. Compile a ranked list of the oldest archeological sites based on verified dating.',\n",
              "  '7.  Consider and address potential biases in the available data (e.g., geographical limitations in research, preservation challenges).',\n",
              "  '8.  Present the findings, including the methodology used and limitations of the data.',\n",
              "  '9.  Cite all sources used.']}"
            ]
          },
          "metadata": {},
          "execution_count": 70
        }
      ]
    }
  ]
}
