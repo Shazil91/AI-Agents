{
  "nbformat": 4,
  "nbformat_minor": 0,
  "metadata": {
    "colab": {
      "provenance": [],
      "mount_file_id": "10g068EM5nzS4Ze0mjrAuL_z5L5168wLF",
      "authorship_tag": "ABX9TyPQZjdtHG2dEDz8+AJsKMLd"
    },
    "kernelspec": {
      "name": "python3",
      "display_name": "Python 3"
    },
    "language_info": {
      "name": "python"
    }
  },
  "cells": [
    {
      "cell_type": "markdown",
      "source": [
        "# Chatbot Description:\n",
        "\n",
        "This chatbot is a healthcare assistant designed to provide personalized support by:\n",
        "\n",
        "1. Responding warmly to greetings and assisting with general health questions, appointment bookings, and FAQs.\n",
        "\n",
        "2. Recommending appropriate doctors based on symptoms using a predefined symptom-to-doctor mapping.\n",
        "\n",
        "3. Booking appointments with detailed confirmations and directing unresolved queries to hospital staff with clear contact information.\n"
      ],
      "metadata": {
        "id": "bcITIBPrMykm"
      }
    },
    {
      "cell_type": "code",
      "execution_count": 1,
      "metadata": {
        "id": "UB5NI6HZgRFw"
      },
      "outputs": [],
      "source": [
        "%%capture --no-stderr\n",
        "%pip install -q -U langgraph langchain_google_genai langchain-community langchain_core dateparser"
      ]
    },
    {
      "cell_type": "code",
      "source": [
        "import os\n",
        "from google.colab import userdata\n",
        "\n",
        "%env GOOGLE_API_KEY = {userdata.get('GEMINI_API_KEY')}\n",
        "%env LANGCHAIN_API_KEY = {userdata.get('LANGCHAIN_API_KEY')}\n",
        "os.environ[\"LANGCHAIN_TRACING_V2\"] = \"true\"\n",
        "os.environ[\"LANGCHAIN_PROJECT\"] = \"retailbot-project\""
      ],
      "metadata": {
        "id": "uZlPMx72y7Ud"
      },
      "execution_count": null,
      "outputs": []
    },
    {
      "cell_type": "markdown",
      "source": [
        "# **Greetings Function:**\n",
        "\n",
        "1.   Identifies common greetings by comparing the user input to a predefined list (e.g., \"hello,\" \"hi,\" \"hey\").\n",
        "2.   Responds warmly and professionally when a greeting is detected.\n",
        "3.   Introduces the chatbot's capabilities, such as answering health questions, booking appointments, and addressing FAQs.\n"
      ],
      "metadata": {
        "id": "13NL5e2wmmKW"
      }
    },
    {
      "cell_type": "code",
      "source": [
        "def greetings(user_input: str) -> str:\n",
        "    \"\"\"\n",
        "    Handles the welcome interaction for the chatbot. Activates only when the user greets.\n",
        "\n",
        "    Args:\n",
        "        user_input (str): The text input from the user.\n",
        "\n",
        "    Returns:\n",
        "        str: The chatbot's response if the user greets, otherwise a generic help message.\n",
        "    \"\"\"\n",
        "    # Define a list of common greetings\n",
        "    greetings = [\"hello\", \"hi\", \"hey\", \"good morning\", \"good afternoon\", \"good evening\"]\n",
        "\n",
        "    # Normalize user input to lowercase for comparison\n",
        "    normalized_input = user_input.lower().strip()\n",
        "\n",
        "    # Check if the user input matches any greeting\n",
        "    if any(greet in normalized_input for greet in greetings):\n",
        "        return (\n",
        "            \"Welcome! I’m your healthcare assistant. I can help you with general health questions, appointment \"\n",
        "            \"bookings, and FAQs about our hospital. How can I assist you today?\"\n",
        "        )\n",
        "\n",
        "    # If no greeting is detected, return a generic message\n",
        "    return \"Can I help you with anything?\"\n"
      ],
      "metadata": {
        "id": "1Y8qHjdemNHe"
      },
      "execution_count": 3,
      "outputs": []
    },
    {
      "cell_type": "markdown",
      "source": [
        "# **Health Information Function:**\n",
        "\n",
        "#### 1.   The function uses a predefined dictionary (symptom_to_doctor) that maps common symptoms (e.g., \"cough,\" \"fever\") to the type of doctor or specialist best suited to handle those symptoms.\n",
        "\n",
        "\n",
        "#### 2.   It checks the user input for any symptoms listed in the dictionary. If a match is found, it provides a recommendation for the appropriate type of doctor.\n",
        "\n",
        "\n",
        "#### 3. If no symptom matches are found, it returns a default response requesting more specific details about the user's symptoms to provide better assistance.\n",
        "\n"
      ],
      "metadata": {
        "id": "9-bDHKYAph7e"
      }
    },
    {
      "cell_type": "code",
      "source": [
        "def health_information(user_input: str) -> str:\n",
        "    \"\"\"\n",
        "    Handles health-related queries from the user. Provides recommendations\n",
        "    based on symptoms.\n",
        "    \"\"\"\n",
        "    # Symptom-to-doctor mapping\n",
        "    symptom_to_doctor = {\n",
        "        \"cough\": \"general physician\",\n",
        "        \"fever\": \"general physician\",\n",
        "        \"cold\": \"general physician\",\n",
        "        \"chest pain\": \"cardiologist\",\n",
        "        \"skin rash\": \"dermatologist\",\n",
        "        \"back pain\": \"orthopedic specialist\",\n",
        "        \"blurred vision\": \"ophthalmologist\",\n",
        "        \"toothache\": \"dentist\",\n",
        "        \"sore throat\": \"ENT specialist\",\n",
        "        \"runny nose\": \"general physician\",\n",
        "        \"headache\": \"neurologist\",\n",
        "        \"joint pain\": \"rheumatologist\",\n",
        "        \"ear pain\": \"ENT specialist\",\n",
        "        \"stomach ache\": \"gastroenterologist\",\n",
        "        \"shortness of breath\": \"pulmonologist\"\n",
        "    }\n",
        "\n",
        "    # Normalize user input\n",
        "    normalized_input = user_input.lower().strip()\n",
        "\n",
        "    # Match symptoms and return response\n",
        "    for symptom, doctor in symptom_to_doctor.items():\n",
        "        if symptom in normalized_input:\n",
        "            return (\n",
        "                f\"I understand you're experiencing '{symptom}'. I recommend consulting a {doctor}. \"\n",
        "                \"If symptoms persist or worsen, please seek immediate medical attention.\"\n",
        "            )\n",
        "\n",
        "    # Default fallback response\n",
        "    return (\n",
        "        \"I'm sorry, I need more information about your symptoms to help you further. \"\n",
        "        \"Could you tell me more details, like if you have a cough, fever, sore throat, or runny nose?\"\n",
        "    )\n"
      ],
      "metadata": {
        "id": "QRB-IKmrqQrO"
      },
      "execution_count": 4,
      "outputs": []
    },
    {
      "cell_type": "markdown",
      "source": [
        "# **Recommend Doctor and Appointment Booking Function:**\n",
        "\n",
        "\n",
        "1.   Matches user-provided symptoms with a predefined mapping of symptoms to specific doctors.\n",
        "2. Recommends an appropriate doctor for the identified symptom or requests additional details if no match is found.\n",
        "3.   Assists in scheduling, rescheduling, or canceling\n",
        "     appointments by guiding the user to provide necessary details such as name, preferred date, and time.\n",
        "4. Extracts user details (name, preferred date/time) and parses symptoms from the input to confirm an appointment.\n",
        "\n",
        "5. Provides a confirmation message with all appointment details, formatted for clarity.\n",
        "\n"
      ],
      "metadata": {
        "id": "BBfs7J_ssYQC"
      }
    },
    {
      "cell_type": "code",
      "source": [
        "from datetime import datetime\n",
        "import dateparser\n",
        "\n",
        "# Symptom-to-doctor mapping\n",
        "SYMPTOM_TO_DOCTOR = {\n",
        "    \"cough\": \"Dr. John Smith (General Physician)\",\n",
        "    \"fever\": \"Dr. John Smith (General Physician)\",\n",
        "    \"cold\": \"Dr. Emily Davis (General Physician)\",\n",
        "    \"chest pain\": \"Dr. Alan Brown (Cardiologist)\",\n",
        "    \"skin rash\": \"Dr. Sarah Wilson (Dermatologist)\",\n",
        "    \"back pain\": \"Dr. Robert Johnson (Orthopedic Specialist)\",\n",
        "    \"blurred vision\": \"Dr. Laura Taylor (Ophthalmologist)\",\n",
        "    \"toothache\": \"Dr. Adam White (Dentist)\",\n",
        "    \"sore throat\": \"Dr. Nancy Green (ENT Specialist)\",\n",
        "    \"runny nose\": \"Dr. Emily Davis (General Physician)\",\n",
        "    \"headache\": \"Dr. Daniel Lee (Neurologist)\",\n",
        "    \"joint pain\": \"Dr. Rachel Adams (Rheumatologist)\",\n",
        "    \"ear pain\": \"Dr. Nancy Green (ENT Specialist)\",\n",
        "    \"stomach ache\": \"Dr. Michael Scott (Gastroenterologist)\",\n",
        "    \"shortness of breath\": \"Dr. Karen Miller (Pulmonologist)\"\n",
        "}\n",
        "\n",
        "def recommend_doctor(symptoms: str) -> str:\n",
        "    \"\"\"\n",
        "    Recommends a doctor based on symptoms.\n",
        "    \"\"\"\n",
        "    for symptom, doctor in SYMPTOM_TO_DOCTOR.items():\n",
        "        if symptom in symptoms.lower():\n",
        "            return f\"I recommend you see {doctor} for '{symptom}'.\"\n",
        "    return \"I'm sorry, I couldn't find a doctor recommendation for your symptoms. Can you provide more details?\"\n",
        "\n",
        "def appointment_booking(user_input: str) -> str:\n",
        "    \"\"\"\n",
        "    Books an appointment based on user's name, preferred date/time, and symptom.\n",
        "    \"\"\"\n",
        "    try:\n",
        "        # Extract user's name (basic parsing)\n",
        "        name = user_input.split(\"My name is \")[1].split(\",\")[0].strip()\n",
        "\n",
        "        # Extract the date and time using flexible parsing\n",
        "        date_time_str = user_input.split(\",\")[1].strip()  # Assumes the second item is the date and time\n",
        "        appointment_datetime = dateparser.parse(date_time_str)\n",
        "\n",
        "        if not appointment_datetime:\n",
        "            return (\n",
        "                \"I couldn't understand the date and time you provided. \"\n",
        "                \"Please include your preferred date and time (e.g., '20 December, 8:00 PM').\"\n",
        "            )\n",
        "\n",
        "        # Format the parsed date and time\n",
        "        formatted_date = appointment_datetime.strftime(\"%d %B\")\n",
        "        formatted_time = appointment_datetime.strftime(\"%I:%M %p\")\n",
        "\n",
        "        # Match symptoms to a doctor\n",
        "        for symptom, doctor in SYMPTOM_TO_DOCTOR.items():\n",
        "            if symptom in user_input.lower():\n",
        "                return (\n",
        "                    f\"Appointment confirmed!\\n\"\n",
        "                    f\"Patient Name: {name}\\n\"\n",
        "                    f\"Date: {formatted_date}\\n\"\n",
        "                    f\"Time: {formatted_time}\\n\"\n",
        "                    f\"Doctor: {doctor} (specialist for '{symptom}')\\n\\n\"\n",
        "                    \"If you need to reschedule or cancel, please let me know.\"\n",
        "                )\n",
        "\n",
        "        # If no symptom matches\n",
        "        return (\n",
        "            f\"Thank you, {name}. Your appointment on {formatted_date} at {formatted_time} is noted.\\n\"\n",
        "            \"However, I need to know your symptoms to assign the appropriate doctor. Could you provide more details?\"\n",
        "        )\n",
        "\n",
        "    except Exception as e:\n",
        "        return (\n",
        "            f\"It seems there was an issue: {str(e)}. \"\n",
        "            \"Please include your name, preferred date, time, and any symptoms you have.\"\n",
        "        )\n"
      ],
      "metadata": {
        "id": "r0awFFT8qAzy"
      },
      "execution_count": 5,
      "outputs": []
    },
    {
      "cell_type": "markdown",
      "source": [
        "# **FAQs Function:**\n",
        "\n",
        "1.   Matches user queries with predefined FAQ topics, such as hospital services, location, timings, and policies.\n",
        "2. Responds with accurate and concise answers to common questions.\n",
        "3. Encourages users to specify their query further if no match is found.\n"
      ],
      "metadata": {
        "id": "AEujbdjytogx"
      }
    },
    {
      "cell_type": "code",
      "source": [
        "def faqs(user_input: str) -> str:\n",
        "    \"\"\"\n",
        "    Handles frequently asked questions (FAQs) about the hospital. Provides accurate and concise responses\n",
        "    related to hospital services, locations, timings, and policies. If the user's input does not relate to an FAQ,\n",
        "    encourages them to specify their query further.\n",
        "\n",
        "    Args:\n",
        "        user_input (str): The text input from the user.\n",
        "\n",
        "    Returns:\n",
        "        str: The chatbot's response to the FAQ or a prompt encouraging clarification.\n",
        "    \"\"\"\n",
        "    # Predefined FAQs and their answers\n",
        "    faq_responses = {\n",
        "        \"services\": \"We offer a variety of services including general medicine, pediatrics, cardiology, and orthopedics.\",\n",
        "        \"location\": \"Our hospital is located at 123 Health Street, Wellness City.\",\n",
        "        \"timings\": \"We are open 24/7 for emergencies. Regular outpatient services are available from 8 AM to 8 PM.\",\n",
        "        \"policy\": \"Patients are required to carry a valid ID for registration. Please adhere to the hospital's mask policy.\"\n",
        "    }\n",
        "\n",
        "    # Normalize user input to lowercase for comparison\n",
        "    normalized_input = user_input.lower().strip()\n",
        "\n",
        "    # Check for keywords in the input and respond with the relevant FAQ\n",
        "    for keyword, response in faq_responses.items():\n",
        "        if keyword in normalized_input:\n",
        "            return response\n",
        "\n",
        "    # If the input does not match any FAQ, provide a general response\n",
        "    return (\n",
        "        \"I'm here to help with questions about our services, location, timings, or policies. Could you please specify your query?\"\n",
        "    )\n"
      ],
      "metadata": {
        "id": "SWtLgWiAs2YK"
      },
      "execution_count": 6,
      "outputs": []
    },
    {
      "cell_type": "markdown",
      "source": [
        "# **Staff Query Function:**\n",
        "\n",
        "1. Detects input that indicates emergencies, complex issues, or requests for staff assistance using predefined keywords.\n",
        "2. Provides contact information for emergencies or unresolved queries, such as a phone number or email address.\n",
        "3. Offers a general follow-up response for less urgent cases, inviting further user input.\n",
        "\n",
        "\n",
        "\n",
        "\n"
      ],
      "metadata": {
        "id": "UDw_zbuyu5Km"
      }
    },
    {
      "cell_type": "code",
      "source": [
        "def staff_query(user_input: str) -> str:\n",
        "    \"\"\"\n",
        "    Handles queries that cannot be resolved by the chatbot and directs users to contact hospital staff for further assistance.\n",
        "    Provides contact information (phone number or email) for emergencies or complex issues.\n",
        "\n",
        "    Args:\n",
        "        user_input (str): The text input from the user.\n",
        "\n",
        "    Returns:\n",
        "        str: The chatbot's response, either guiding the user to contact staff or acknowledging their query.\n",
        "    \"\"\"\n",
        "    # Define keywords indicating unresolved queries or emergencies\n",
        "    unresolved_keywords = [\"emergency\", \"urgent\", \"complex\", \"can't help\", \"staff\"]\n",
        "\n",
        "    # Normalize user input to lowercase for comparison\n",
        "    normalized_input = user_input.lower().strip()\n",
        "\n",
        "    # Check if the input contains any unresolved keywords\n",
        "    if any(keyword in normalized_input for keyword in unresolved_keywords):\n",
        "        return (\n",
        "            \"I'm sorry that I cannot assist with this directly. For emergencies, please contact our staff immediately at 123-456-7890. \"\n",
        "            \"For other complex issues, you can email us at support@hospital.com. Let me know if there’s anything else I can help with.\"\n",
        "        )\n",
        "\n",
        "    # If no unresolved keyword is detected, provide a general response\n",
        "    return (\n",
        "        \"Let me know how I can assist you further. For urgent matters, please contact our staff directly.\"\n",
        "    )"
      ],
      "metadata": {
        "id": "J3d7Wu65u2vq"
      },
      "execution_count": 7,
      "outputs": []
    },
    {
      "cell_type": "markdown",
      "source": [
        "# System Messages"
      ],
      "metadata": {
        "id": "27DDMhkxHoW3"
      }
    },
    {
      "cell_type": "code",
      "source": [
        "from langchain_core.messages import SystemMessage\n",
        "\n",
        "# System Message for Greetings and Functionalities\n",
        "sys_msg = SystemMessage(content=(\n",
        "    \"You are a healthcare assistant chatbot. When a user greets you, respond warmly and professionally. \"\n",
        "    \"Let them know that you can assist with general health questions, appointment bookings, and FAQs. \"\n",
        "    \"Always encourage users to specify how you can help them.\"\n",
        "\n",
        "    \"When a user describes their symptoms, analyze the symptoms and determine the appropriate specialist \"\n",
        "    \"or doctor for consultation based on the provided information. Use the internal symptom-to-doctor mapping \"\n",
        "    \"to recommend a specific doctor by name and specialization. For example, if a user reports symptoms like 'cough' \"\n",
        "    \"or 'fever,' recommend 'Dr. John Smith (General Physician).' Always provide clear, professional, and empathetic guidance, \"\n",
        "    \"and encourage users to seek immediate medical attention if symptoms are severe.\"\n",
        "\n",
        "    \"If a user requests to book an appointment, gather their name, preferred date and time, and symptoms. Validate the date and time \"\n",
        "    \"to ensure they are correct and confirm the booking by assigning an appropriate doctor based on the symptoms. Clearly summarize \"\n",
        "    \"the appointment details, including the doctor’s name, specialization, and the reason for the visit. For example: \"\n",
        "    \"'Appointment confirmed! Patient Name: Alex, Date: 15 December, Time: 2:00 PM, Doctor: Dr. John Smith (General Physician).' \"\n",
        "    \"If symptoms are unclear or not provided, politely request more information from the user.\"\n",
        "\n",
        "    \"Assist users with frequently asked questions (FAQs) about hospital services, locations, timings, and policies concisely and accurately. \"\n",
        "    \"For example, respond to questions like 'What are the hospital hours?' with 'The hospital is open 24/7, but outpatient services operate from 8 AM to 6 PM on weekdays.\"\n",
        "    \"If a query cannot be resolved by the chatbot, politely guide the user to contact hospital staff and provide \"\n",
        "    \"clear contact information (phone or email).\"\n",
        "\n",
        "    \"Always respond politely, clearly, and in alignment with hospital policies. Maintain a professional tone and ensure users feel supported.\"\n",
        "))\n"
      ],
      "metadata": {
        "id": "LimCtYPJHUVG"
      },
      "execution_count": 118,
      "outputs": []
    },
    {
      "cell_type": "code",
      "source": [
        "from langchain_google_genai import ChatGoogleGenerativeAI\n",
        "\n",
        "llm : ChatGoogleGenerativeAI = ChatGoogleGenerativeAI(model=\"gemini-1.5-flash\")\n",
        "\n",
        "tools = [greetings, health_information, recommend_doctor, appointment_booking, faqs, staff_query]\n",
        "\n",
        "llm_with_tools = llm.bind_tools(tools)"
      ],
      "metadata": {
        "id": "UU4bo66lzAMS"
      },
      "execution_count": 120,
      "outputs": []
    },
    {
      "cell_type": "markdown",
      "source": [
        "# Building the Graph"
      ],
      "metadata": {
        "id": "0qWTDulGO-OO"
      }
    },
    {
      "cell_type": "code",
      "source": [
        "from IPython.display import display, Image\n",
        "from langgraph.graph import StateGraph, START, END, MessagesState\n",
        "from langgraph.checkpoint.memory import MemorySaver\n",
        "from langgraph.graph.state import CompiledStateGraph\n",
        "from langchain_core.messages import HumanMessage\n",
        "from langgraph.prebuilt import ToolNode, tools_condition\n",
        "\n",
        "def assistant(state: MessagesState) -> MessagesState:\n",
        "  return {\"messages\": [llm_with_tools.invoke([sys_msg] + state[\"messages\"])]}\n",
        "\n",
        "builder: StateGraph = StateGraph(MessagesState)\n",
        "\n",
        "builder.add_node(\"assistant\", assistant)\n",
        "builder.add_node(\"tools\", ToolNode(tools))\n",
        "\n",
        "builder.add_edge(START, \"assistant\")\n",
        "builder.add_conditional_edges(\"assistant\", tools_condition)\n",
        "builder.add_edge(\"tools\", END)\n",
        "\n",
        "memory: MemorySaver = MemorySaver()\n",
        "\n",
        "graph: CompiledStateGraph = builder.compile(checkpointer=memory)\n",
        "\n",
        "display(Image(graph.get_graph().draw_mermaid_png()))"
      ],
      "metadata": {
        "colab": {
          "base_uri": "https://localhost:8080/",
          "height": 350
        },
        "id": "4OEbhRo7tmWt",
        "outputId": "ebb4003b-042c-4c3f-daf3-c489acd41df7"
      },
      "execution_count": 131,
      "outputs": [
        {
          "output_type": "display_data",
          "data": {
            "image/png": "[encoded data removed]",
            "text/plain": [
              "<IPython.core.display.Image object>"
            ]
          },
          "metadata": {}
        }
      ]
    },
    {
      "cell_type": "markdown",
      "source": [
        "# Graph Invoke"
      ],
      "metadata": {
        "id": "Salc4hv-5cjO"
      }
    },
    {
      "cell_type": "code",
      "source": [
        "initial_input = {\"messages\": HumanMessage(content=\"Hi\")}\n",
        "\n",
        "thread = {\"configurable\": {\"thread_id\": \"1\"}}\n",
        "\n",
        "for event in graph.stream(initial_input, thread, stream_mode=\"values\"):\n",
        "    event['messages'][-1].pretty_print()"
      ],
      "metadata": {
        "colab": {
          "base_uri": "https://localhost:8080/"
        },
        "id": "fUk0j6Er1wRd",
        "outputId": "c57ecc6c-2413-4cfd-d3a9-b3ba9bc50dbc"
      },
      "execution_count": 132,
      "outputs": [
        {
          "output_type": "stream",
          "name": "stdout",
          "text": [
            "================================\u001b[1m Human Message \u001b[0m=================================\n",
            "\n",
            "Hi\n",
            "==================================\u001b[1m Ai Message \u001b[0m==================================\n",
            "\n",
            "Hello! Welcome to our healthcare assistant chatbot. I'm here to assist you with general health questions, appointment bookings, and FAQs.  How can I help you today?\n"
          ]
        }
      ]
    },
    {
      "cell_type": "code",
      "source": [
        "initial_input = {\"messages\": HumanMessage(content=\"Can you recommend me a doctor, I am having a cough for a week now?\")}\n",
        "\n",
        "thread = {\"configurable\": {\"thread_id\": \"1\"}}\n",
        "\n",
        "for event in graph.stream(initial_input, thread, stream_mode=\"values\"):\n",
        "    event['messages'][-1].pretty_print()"
      ],
      "metadata": {
        "colab": {
          "base_uri": "https://localhost:8080/"
        },
        "id": "0sof2xUtbGfF",
        "outputId": "98af96b7-051f-466e-e9a5-0cf529f80a6c"
      },
      "execution_count": 135,
      "outputs": [
        {
          "output_type": "stream",
          "name": "stdout",
          "text": [
            "================================\u001b[1m Human Message \u001b[0m=================================\n",
            "\n",
            "Can you recommend me a doctor, I am having a cough for a week now?\n",
            "==================================\u001b[1m Ai Message \u001b[0m==================================\n",
            "Tool Calls:\n",
            "  recommend_doctor (a6bd0e92-ce6b-44dc-9321-1dae2d049017)\n",
            " Call ID: a6bd0e92-ce6b-44dc-9321-1dae2d049017\n",
            "  Args:\n",
            "    symptoms: cough\n",
            "=================================\u001b[1m Tool Message \u001b[0m=================================\n",
            "Name: recommend_doctor\n",
            "\n",
            "I recommend you see Dr. John Smith (General Physician) for 'cough'.\n"
          ]
        }
      ]
    },
    {
      "cell_type": "code",
      "source": [
        "initial_input = {\"messages\": HumanMessage(content=\"Can you schedule my appointment with him?\")}\n",
        "\n",
        "thread = {\"configurable\": {\"thread_id\": \"1\"}}\n",
        "\n",
        "for event in graph.stream(initial_input, thread, stream_mode=\"values\"):\n",
        "    event['messages'][-1].pretty_print()"
      ],
      "metadata": {
        "colab": {
          "base_uri": "https://localhost:8080/"
        },
        "id": "qsE3koZ-AKyo",
        "outputId": "a79e09ae-da76-4f06-df59-0973dd19d760"
      },
      "execution_count": 136,
      "outputs": [
        {
          "output_type": "stream",
          "name": "stdout",
          "text": [
            "================================\u001b[1m Human Message \u001b[0m=================================\n",
            "\n",
            "Can you schedule my appointment with him?\n",
            "==================================\u001b[1m Ai Message \u001b[0m==================================\n",
            "\n",
            "I'd be happy to help you schedule an appointment with Dr. John Smith. To do so, I'll need your name and your preferred date and time for the appointment.  Please also tell me a bit more about your cough; for example, is it dry or productive (bringing up phlegm)?  This information will help Dr. Smith prepare for your visit.\n"
          ]
        }
      ]
    },
    {
      "cell_type": "code",
      "source": [
        "initial_input = {\"messages\": HumanMessage(content=\"My name is Shazil Ali, 20 December, 8:00 pm, I am having cough\")}\n",
        "\n",
        "thread = {\"configurable\": {\"thread_id\": \"1\"}}\n",
        "\n",
        "for event in graph.stream(initial_input, thread, stream_mode=\"values\"):\n",
        "    event['messages'][-1].pretty_print()"
      ],
      "metadata": {
        "colab": {
          "base_uri": "https://localhost:8080/"
        },
        "id": "2bhFwsS9ATDW",
        "outputId": "9343c083-9e41-4388-db99-b5fad554a33e"
      },
      "execution_count": 137,
      "outputs": [
        {
          "output_type": "stream",
          "name": "stdout",
          "text": [
            "================================\u001b[1m Human Message \u001b[0m=================================\n",
            "\n",
            "My name is Shazil Ali, 20 December, 8:00 pm, I am having cough\n",
            "==================================\u001b[1m Ai Message \u001b[0m==================================\n",
            "Tool Calls:\n",
            "  appointment_booking (b25fd24c-7efb-48ef-844f-5a3cb3c8b690)\n",
            " Call ID: b25fd24c-7efb-48ef-844f-5a3cb3c8b690\n",
            "  Args:\n",
            "    user_input: My name is Shazil Ali, 20 December, 8:00 pm, I am having cough\n",
            "=================================\u001b[1m Tool Message \u001b[0m=================================\n",
            "Name: appointment_booking\n",
            "\n",
            "Appointment confirmed!\n",
            "Patient Name: Shazil Ali\n",
            "Date: 20 December\n",
            "Time: 12:00 AM\n",
            "Doctor: Dr. John Smith (General Physician) (specialist for 'cough')\n",
            "\n",
            "If you need to reschedule or cancel, please let me know.\n"
          ]
        }
      ]
    },
    {
      "cell_type": "code",
      "source": [
        "initial_input = {\"messages\": HumanMessage(content=\"Can you tell me the hospital timings?\")}\n",
        "\n",
        "thread = {\"configurable\": {\"thread_id\": \"1\"}}\n",
        "\n",
        "for event in graph.stream(initial_input, thread, stream_mode=\"values\"):\n",
        "    event['messages'][-1].pretty_print()"
      ],
      "metadata": {
        "colab": {
          "base_uri": "https://localhost:8080/"
        },
        "id": "v0s7oMRGLB_V",
        "outputId": "e8c33290-6130-4208-ca0c-584a918fd103"
      },
      "execution_count": 138,
      "outputs": [
        {
          "output_type": "stream",
          "name": "stdout",
          "text": [
            "================================\u001b[1m Human Message \u001b[0m=================================\n",
            "\n",
            "Can you tell me the hospital timings?\n",
            "==================================\u001b[1m Ai Message \u001b[0m==================================\n",
            "Tool Calls:\n",
            "  faqs (1eefc1d8-5957-49a8-9525-469af1bf14dd)\n",
            " Call ID: 1eefc1d8-5957-49a8-9525-469af1bf14dd\n",
            "  Args:\n",
            "    user_input: hospital timings\n",
            "=================================\u001b[1m Tool Message \u001b[0m=================================\n",
            "Name: faqs\n",
            "\n",
            "We are open 24/7 for emergencies. Regular outpatient services are available from 8 AM to 8 PM.\n"
          ]
        }
      ]
    },
    {
      "cell_type": "code",
      "source": [
        "initial_input = {\"messages\": HumanMessage(content=\"I have an emergency, how can i contact the hospital reception?\")}\n",
        "\n",
        "thread = {\"configurable\": {\"thread_id\": \"1\"}}\n",
        "\n",
        "for event in graph.stream(initial_input, thread, stream_mode=\"values\"):\n",
        "    event['messages'][-1].pretty_print()"
      ],
      "metadata": {
        "colab": {
          "base_uri": "https://localhost:8080/"
        },
        "id": "I2tKsDkxLROl",
        "outputId": "0adb3e9a-5438-4da7-b209-9323cf50d91a"
      },
      "execution_count": 139,
      "outputs": [
        {
          "output_type": "stream",
          "name": "stdout",
          "text": [
            "================================\u001b[1m Human Message \u001b[0m=================================\n",
            "\n",
            "I have an emergency, how can i contact the hospital reception?\n",
            "==================================\u001b[1m Ai Message \u001b[0m==================================\n",
            "Tool Calls:\n",
            "  staff_query (e07cb2e4-cbf3-4c66-af70-1d3fcabb3892)\n",
            " Call ID: e07cb2e4-cbf3-4c66-af70-1d3fcabb3892\n",
            "  Args:\n",
            "    user_input: I have an emergency, how can i contact the hospital reception?\n",
            "=================================\u001b[1m Tool Message \u001b[0m=================================\n",
            "Name: staff_query\n",
            "\n",
            "I'm sorry that I cannot assist with this directly. For emergencies, please contact our staff immediately at 123-456-7890. For other complex issues, you can email us at support@hospital.com. Let me know if there’s anything else I can help with.\n"
          ]
        }
      ]
    }
  ]
}