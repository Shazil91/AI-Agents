{
  "nbformat": 4,
  "nbformat_minor": 0,
  "metadata": {
    "colab": {
      "provenance": [],
      "mount_file_id": "1ErOrYb5Ud09Cq9dUv389VNBWOYH0Atok",
      "authorship_tag": "ABX9TyMOT9zzy1oUJEYrYXZ6Gith"
    },
    "kernelspec": {
      "name": "python3",
      "display_name": "Python 3"
    },
    "language_info": {
      "name": "python"
    }
  },
  "cells": [
    {
      "cell_type": "markdown",
      "source": [
        "# **ChatBot Description:**\n",
        "\n",
        " RetailBot is a versatile chatbot designed for retail services. It can recommend products by category or price range, track the status of customer orders, and provide information about available product categories. The chatbot uses interrupt functionality and long and short-term memory. By remembering past conversations, this chatbot offers a more tailored and engaging shopping experience, adapting to individual customer preferences."
      ],
      "metadata": {
        "id": "kHach82g7BmH"
      }
    },
    {
      "cell_type": "code",
      "execution_count": 10,
      "metadata": {
        "id": "tQp_hgiEx0VU"
      },
      "outputs": [],
      "source": [
        "%%capture  --no-stderr\n",
        "%pip install --quiet -U langchain_google_genai langchain_core langgraph trustcall"
      ]
    },
    {
      "cell_type": "code",
      "source": [
        "import os\n",
        "from google.colab import userdata\n",
        "\n",
        "%env GOOGLE_API_KEY = {userdata.get('GEMINI_API_KEY')}\n",
        "%env LANGCHAIN_API_KEY = {userdata.get('LANGCHAIN_API_KEY')}\n",
        "os.environ[\"LANGCHAIN_TRACING_V2\"] = \"true\"\n",
        "os.environ[\"LANGCHAIN_PROJECT\"] = \"retailbot-project\""
      ],
      "metadata": {
        "id": "-71qkAyt-sZO"
      },
      "execution_count": null,
      "outputs": []
    },
    {
      "cell_type": "markdown",
      "source": [
        "# **recommend_products Function:**\n",
        "\n",
        "**Purpose:** Suggests a list of products filtered by category or randomly from the entire catalog if no category is provided.\n",
        "\n",
        "**Implementation:** Filters the products catalog based on the provided category. If no category is given, it uses the full product list. Then, it selects a random subset of products, up to the number requested.\n",
        "\n",
        "**Output:** Returns a list of randomly chosen product dictionaries, with a maximum size of num_recommendations."
      ],
      "metadata": {
        "id": "MJYo40SBg1lk"
      }
    },
    {
      "cell_type": "code",
      "source": [
        "import random\n",
        "from typing import Optional, List, Dict, Any\n",
        "\n",
        "# Simulated product catalog\n",
        "products = [\n",
        "    {\"id\": 1, \"name\": \"Laptop\", \"category\": \"Electronics\"},\n",
        "    {\"id\": 2, \"name\": \"Smartphone\", \"category\": \"Electronics\"},\n",
        "    {\"id\": 3, \"name\": \"Headphones\", \"category\": \"Accessories\"},\n",
        "    {\"id\": 4, \"name\": \"Shirt\", \"category\": \"Clothing\"},\n",
        "    {\"id\": 5, \"name\": \"Jacket\", \"category\": \"Clothing\"},\n",
        "    {\"id\": 6, \"name\": \"Sneakers\", \"category\": \"Footwear\"},\n",
        "    {\"id\": 7, \"name\": \"Washing Machine\", \"category\": \"Appliances\"},\n",
        "    {\"id\": 8, \"name\": \"Refrigerator\", \"category\": \"Appliances\"},\n",
        "    {\"id\": 9, \"name\": \"Blender\", \"category\": \"Kitchen\"},\n",
        "    {\"id\": 10, \"name\": \"Microwave\", \"category\": \"Kitchen\"},\n",
        "    {\"id\": 11, \"name\": \"Running Shoes\", \"category\": \"Footwear\"},\n",
        "    {\"id\": 12, \"name\": \"Gaming Console\", \"category\": \"Gaming\"},\n",
        "    {\"id\": 13, \"name\": \"Game Controller\", \"category\": \"Gaming\"},\n",
        "    {\"id\": 14, \"name\": \"Earrings\", \"category\": \"Jewelry\"},\n",
        "    {\"id\": 15, \"name\": \"Necklace\", \"category\": \"Jewelry\"},\n",
        "]\n",
        "\n",
        "def recommend_products(category: Optional[str] = None, num_recommendations: int = 6) -> List[Dict[str, Any]]:\n",
        "    \"\"\"\n",
        "    Recommends products based on category or randomly if no category is provided.\n",
        "    \"\"\"\n",
        "    if category:\n",
        "        filtered_products = [p for p in products if p[\"category\"].lower() == category.lower()]\n",
        "    else:\n",
        "        filtered_products = products  # Recommend from all products\n",
        "\n",
        "    # Pick random products up to the requested number\n",
        "    recommendations = random.sample(filtered_products, min(num_recommendations, len(filtered_products)))\n",
        "\n",
        "    return recommendations\n",
        "\n",
        "# Example usage\n",
        "print(\"Recommendations for Electronics:\")\n",
        "print(recommend_products(category=\"Electronics\"))\n",
        "\n",
        "print(\"\\nRecommendations for Kitchen:\")\n",
        "print(recommend_products(category=\"Kitchen\"))\n",
        "\n",
        "print(\"\\nRecommendations for Gaming:\")\n",
        "print(recommend_products(category=\"Gaming\"))"
      ],
      "metadata": {
        "id": "LepwTc8J2k6u"
      },
      "execution_count": null,
      "outputs": []
    },
    {
      "cell_type": "markdown",
      "source": [
        "# **product_price Function**\n",
        "\n",
        "**Purpose:** Filters and recommends items from the items list that are within a specified price limit.\n",
        "\n",
        "**Implementation:** Iterates over the items list to find products where the item_price is less than the provided price_limit. If no items match, it displays a message indicating no available products for the given price range.\n",
        "\n",
        "**Output:** Returns a list of dictionaries for products within the specified price range or an empty list if no matches are found.\n",
        "\n",
        "# **place_order Function**\n",
        "\n",
        "**Purpose:** Places an order for a product for the user.\n",
        "\n",
        "\n"
      ],
      "metadata": {
        "id": "0LMuTgrk4PqO"
      }
    },
    {
      "cell_type": "code",
      "source": [
        "from langgraph.types import Command,interrupt\n",
        "items = [\n",
        "    {'name': \"Laptop\", 'item_price': 300},\n",
        "    {'name': \"Smartphone\", 'item_price': 350},\n",
        "    {'name': \"Headphones\", 'item_price': 150},\n",
        "    {'name': \"Shirt\", 'item_price': 80},\n",
        "    {'name': \"Jacket\", 'item_price': 180},\n",
        "    {'name': \"Sneakers\", 'item_price': 200},\n",
        "    {'name': \"Washing Machine\", 'item_price': 500},\n",
        "    {'name': \"Refrigerator\", 'item_price': 700},\n",
        "    {'name': \"Blender\", 'item_price': 120},\n",
        "    {'name': \"Microwave\", 'item_price': 250},\n",
        "    {'name': \"Running Shoes\", 'item_price': 220},\n",
        "    {'name': \"Gaming Console\", 'item_price': 400},\n",
        "    {'name': \"Game Controller\", 'item_price': 60},\n",
        "    {'name': \"Earrings\", 'item_price': 300},\n",
        "    {'name': \"Necklace\", 'item_price': 450},\n",
        "]\n",
        "\n",
        "def product_price(price_limit: int):\n",
        "    \"\"\" Recommend items based on price_limit if user asked about price range \"\"\"\n",
        "    recommended = [product for product in items if product['item_price'] < price_limit]\n",
        "    if not recommended:\n",
        "        print(\"We don't have products for that price range.\")\n",
        "    return recommended\n",
        "\n",
        "# Example usage\n",
        "under_300 = product_price(300)\n",
        "under_400 = product_price(400)\n",
        "\n",
        "print(\"\\nItems under $300:\", under_300)\n",
        "print(\"Items under $400:\", under_400)\n",
        "\n",
        "def place_order(product_name:str,address:str):\n",
        "  \"\"\"\n",
        "  Place an order for a product\n",
        "  \"\"\"\n",
        "  order=[item for item in items if item[\"name\"] == product_name]\n",
        "  if not order:\n",
        "    print(\"Sorry, we don't have this item.\")\n",
        "\n",
        "  if order:\n",
        "    print(\"Please check your order for final confirmation\")\n",
        "    return interrupt(order)\n",
        "\n",
        "  if address:\n",
        "    return\n",
        "    print(\"Your order is placed\")\n",
        "  else:\n",
        "    print(\"Please provide the shipping Address\")\n",
        "\n",
        "\n"
      ],
      "metadata": {
        "id": "gXj-cvTd3vpz"
      },
      "execution_count": null,
      "outputs": []
    },
    {
      "cell_type": "markdown",
      "source": [
        "# **track_order Function:**\n",
        "\n",
        "**Purpose:** Retrieves the status and details of an order based on the provided order_id.\n",
        "\n",
        "**Implementation:** Checks if the order_id exists in the orders dictionary. If found, it returns the corresponding order's status and details; otherwise, it returns an error message.\n",
        "\n",
        "**Output:** Returns a dictionary with the order's status and details, or a \"Not Found\" response if the ID is invalid.\n"
      ],
      "metadata": {
        "id": "4ByZAEd54ewq"
      }
    },
    {
      "cell_type": "code",
      "source": [
        "# Simulated order tracking system\n",
        "orders = {\n",
        "    \"ORD123\": {\"status\": \"Shipped\", \"details\": \"Expected delivery in 3 days\"},\n",
        "    \"ORD124\": {\"status\": \"Processing\", \"details\": \"Your order is being prepared\"},\n",
        "    \"ORD125\": {\"status\": \"Delivered\", \"details\": \"Order delivered on Dec 10, 2024\"},\n",
        "    \"ORD126\": {\"status\": \"Cancelled\", \"details\": \"Order was cancelled by the user\"},\n",
        "    \"ORD127\": {\"status\": \"Returned\", \"details\": \"Item returned and refund initiated\"},\n",
        "}\n",
        "\n",
        "def track_order(order_id: str):\n",
        "    \"\"\"\n",
        "    Tracks the order status using the order ID.\n",
        "    \"\"\"\n",
        "    if order_id in orders:\n",
        "        return orders[order_id]\n",
        "    else:\n",
        "        return {\"status\": \"Not Found\", \"details\": \"Invalid Order ID. Please check again.\"}\n",
        "\n",
        "# Example usage\n",
        "print(\"\\nTracking Order ID 'ORD123':\")\n",
        "print(track_order(\"ORD123\"))\n",
        "\n",
        "print(\"\\nTracking Order ID 'ORD124':\")\n",
        "print(track_order(\"ORD124\"))\n",
        "\n",
        "print(\"\\nTracking Order ID 'ORD126':\")\n",
        "print(track_order(\"ORD126\"))\n",
        "\n",
        "print(\"\\nTracking Order ID 'ORD127':\")\n",
        "print(track_order(\"ORD127\"))"
      ],
      "metadata": {
        "id": "-NrWk33m4CNS"
      },
      "execution_count": null,
      "outputs": []
    },
    {
      "cell_type": "markdown",
      "source": [
        "# **get_categories Function:**\n",
        "**Purpose:** Extracts all distinct product categories from the products catalog.\n",
        "\n",
        "**Implementation:** Uses a set comprehension to eliminate duplicates and then sorts the categories alphabetically.\n",
        "\n",
        "**Output:** Returns a list of unique and sorted category names as strings.\n",
        "\n",
        "# **handle_message Function:**\n",
        "**Purpose:** Interprets user messages and provides appropriate responses based on the content of the message.\n",
        "\n",
        "**Logic:** Checks for specific keywords like \"categories\" or \"recommend\" in the message to decide the response.\n",
        "\n",
        "\n",
        "*   If \"categories\" is mentioned, it calls get_categories to list available product categories.\n",
        "\n",
        "*   If \"recommend\" is mentioned, it parses the message to identify a category and provides recommendations using the recommend_products function.\n",
        "\n",
        "\n",
        "**Fallback Response:** If the message doesn't match any expected pattern, it returns a clarification prompt."
      ],
      "metadata": {
        "id": "EUeVvER_2MmB"
      }
    },
    {
      "cell_type": "code",
      "source": [
        "# Function to get distinct categories from the product catalog\n",
        "def get_categories() -> List[str]:\n",
        "    \"\"\"\n",
        "    Retrieves a list of distinct product categories.\n",
        "    \"\"\"\n",
        "    return sorted(set(product[\"category\"] for product in products))\n",
        "\n",
        "# Add handling for category-related queries\n",
        "def handle_message(message: str) -> str:\n",
        "    \"\"\"\n",
        "    Handles user messages and provides appropriate responses.\n",
        "    \"\"\"\n",
        "    if \"categories\" in message.lower():\n",
        "        categories = get_categories()\n",
        "        return f\"We offer products in the following categories: {', '.join(categories)}.\"\n",
        "    elif \"recommend\" in message.lower():\n",
        "        category = message.split(\"for\")[-1].strip()\n",
        "        recommendations = recommend_products(category=category)\n",
        "        return f\"Here are some recommendations for {category}: {recommendations}\"\n",
        "    else:\n",
        "        return \"I'm sorry, I didn't understand your request. Can you please clarify?\"\n",
        "\n",
        "# Example usage\n",
        "user_message = \"Can you please provide me the categories\"\n",
        "response = handle_message(user_message)\n",
        "print(response)\n"
      ],
      "metadata": {
        "id": "ywGmNstf1ah2"
      },
      "execution_count": null,
      "outputs": []
    },
    {
      "cell_type": "code",
      "source": [
        "from langchain_google_genai import ChatGoogleGenerativeAI\n",
        "\n",
        "tools=[recommend_products,track_order,product_price, get_categories, handle_message,place_order]\n",
        "\n",
        "llm=ChatGoogleGenerativeAI(model=\"gemini-1.5-flash\")\n",
        "\n",
        "llm_with_tools=llm.bind_tools(tools)\n"
      ],
      "metadata": {
        "id": "sPPo8wSc1PFL"
      },
      "execution_count": 16,
      "outputs": []
    },
    {
      "cell_type": "markdown",
      "source": [
        "# Building the Graph:"
      ],
      "metadata": {
        "id": "4cDSCXEbf13h"
      }
    },
    {
      "cell_type": "code",
      "source": [
        "from langgraph.graph import MessagesState\n",
        "from langchain_core.messages import AIMessage,HumanMessage,SystemMessage\n",
        "from langchain_core.runnables.config import RunnableConfig\n",
        "from langgraph.store.base import BaseStore\n",
        "from langchain_core.messages import merge_message_runs\n",
        "from pydantic import BaseModel,Field\n",
        "from trustcall import create_extractor\n",
        "import uuid\n",
        "\n",
        "class Memory(BaseModel):\n",
        "    content: str = Field(description=\"The main content of the memory. For example: User expressed interest in buying the products.\")\n",
        "\n",
        "trustcall_extractor = create_extractor(\n",
        "    llm_with_tools,\n",
        "    tools=[Memory],\n",
        "    tool_choice=\"Memory\",\n",
        "    enable_inserts=True,\n",
        ")\n",
        "\n",
        "MODEL_SYSTEM_MESSAGE = \"\"\"You are a helpful chatbot. You are designed to be a companion to a user.\n",
        "\n",
        "Your tasks include recommending products based on categories or price limits.\n",
        "\n",
        "Your job is providing a list of available product categories.\n",
        "\n",
        "You also place order for the user, track order statuses, and assists users with any retail-related queries.\n",
        "\n",
        "You have a long term memory which keeps track of information you learn about the user over time.\n",
        "\n",
        "Current Memory (may include updated memories from this conversation):\n",
        "\n",
        "{memory}\"\"\"\n",
        "\n",
        "TRUSTCALL_INSTRUCTION = \"\"\"Reflect on following interaction.\n",
        "\n",
        "Use the provided tools to retain any necessary memories about the user.\n",
        "\n",
        "Use parallel tool calling to handle updates and insertions simultaneously:\"\"\"\n",
        "\n",
        "def assistant(state: MessagesState, config:RunnableConfig, store:BaseStore):\n",
        "\n",
        "    \"\"\"Load memories from the store and use them to personalize the chatbot's response.\"\"\"\n",
        "\n",
        "    user_id = config[\"configurable\"][\"user_id\"]\n",
        "\n",
        "    namespace = (\"memories\", user_id)\n",
        "    memories = store.search(namespace)\n",
        "\n",
        "    info = \"\\n\".join(f\"- {mem.value['content']}\" for mem in memories)\n",
        "    system_msg = MODEL_SYSTEM_MESSAGE.format(memory=info)\n",
        "\n",
        "    response = llm_with_tools.invoke([SystemMessage(content=system_msg)]+state[\"messages\"])\n",
        "\n",
        "    return {\"messages\": response}\n",
        "\n",
        "def write_memory(state: MessagesState, config: RunnableConfig, store: BaseStore):\n",
        "\n",
        "    \"\"\"Reflect on the chat history and update the memory collection.\"\"\"\n",
        "\n",
        "    user_id = config[\"configurable\"][\"user_id\"]\n",
        "\n",
        "    namespace = (\"memories\", user_id)\n",
        "\n",
        "    existing_items = store.search(namespace)\n",
        "\n",
        "    tool_name = \"Memory\"\n",
        "    existing_memories = ([(existing_item.key, tool_name, existing_item.value)\n",
        "                          for existing_item in existing_items]\n",
        "                          if existing_items\n",
        "                          else None\n",
        "                        )\n",
        "\n",
        "    updated_messages = list(merge_message_runs(messages=[SystemMessage(content=TRUSTCALL_INSTRUCTION)] + state[\"messages\"]))\n",
        "\n",
        "    result = trustcall_extractor.invoke({\"messages\": updated_messages,\n",
        "                                        \"existing\": existing_memories})\n",
        "\n",
        "    for r, rmeta in zip(result[\"responses\"], result[\"response_metadata\"]):\n",
        "        store.put(namespace,\n",
        "                  rmeta.get(\"json_doc_id\", str(uuid.uuid4())),\n",
        "                  r.model_dump(mode=\"json\"),\n",
        "            )\n",
        ""
      ],
      "metadata": {
        "id": "yw71Sf2ABLEe"
      },
      "execution_count": 22,
      "outputs": []
    },
    {
      "cell_type": "code",
      "source": [
        "from langgraph.graph import START,StateGraph\n",
        "from langgraph.prebuilt import tools_condition,ToolNode\n",
        "from langgraph.checkpoint.memory import MemorySaver\n",
        "from IPython.display import display, Image\n",
        "from langgraph.store.memory import InMemoryStore\n",
        "\n",
        "builder: StateGraph = StateGraph(MessagesState)\n",
        "\n",
        "builder.add_node(\"assistant\", assistant)\n",
        "builder.add_node(\"tools\", ToolNode(tools))\n",
        "builder.add_node(\"write_memory\",write_memory)\n",
        "\n",
        "builder.add_edge(START, \"assistant\")\n",
        "builder.add_conditional_edges(\"assistant\", tools_condition)\n",
        "builder.add_edge(\"tools\", \"write_memory\")\n",
        "builder.add_edge(\"write_memory\",\"assistant\")\n",
        "\n",
        "across_thread_memory = InMemoryStore()\n",
        "\n",
        "memory: MemorySaver = MemorySaver()\n",
        "\n",
        "graph = builder.compile(checkpointer=memory, store=across_thread_memory)\n",
        "\n",
        "\n",
        "display(Image(graph.get_graph(xray=1).draw_mermaid_png()))"
      ],
      "metadata": {
        "id": "J0HMvBo1ByOw",
        "colab": {
          "base_uri": "https://localhost:8080/",
          "height": 365
        },
        "outputId": "b3cd8a93-6cb1-4cb3-cf2d-39afc5fa7fe6"
      },
      "execution_count": 23,
      "outputs": [
        {
          "output_type": "display_data",
          "data": {
            "image/png": "[encoded data removed]",
            "text/plain": [
              "<IPython.core.display.Image object>"
            ]
          },
          "metadata": {}
        }
      ]
    },
    {
      "cell_type": "markdown",
      "source": [
        "# **Graph Invoke**"
      ],
      "metadata": {
        "id": "euRwD5O99Smt"
      }
    },
    {
      "cell_type": "code",
      "source": [
        "config = {\"configurable\": {\"thread_id\": \"1\", \"user_id\": \"2\"}}\n",
        "\n",
        "# User input\n",
        "input_messages = [HumanMessage(content=\"Hello\")]\n",
        "\n",
        "# Run the graph\n",
        "for chunk in graph.stream({\"messages\": input_messages}, config, stream_mode=\"values\"):\n",
        "    chunk[\"messages\"][-1].pretty_print()"
      ],
      "metadata": {
        "id": "3ZOFFqbhZOQA",
        "outputId": "4bf5646e-8123-40c9-8db6-493815611c12",
        "colab": {
          "base_uri": "https://localhost:8080/"
        }
      },
      "execution_count": 37,
      "outputs": [
        {
          "output_type": "stream",
          "name": "stdout",
          "text": [
            "================================\u001b[1m Human Message \u001b[0m=================================\n",
            "\n",
            "Hello\n",
            "==================================\u001b[1m Ai Message \u001b[0m==================================\n",
            "\n",
            "Hello again! How can I help you today?\n"
          ]
        }
      ]
    },
    {
      "cell_type": "code",
      "source": [
        "input_messages = [HumanMessage(content=\"Recommend a product for me\")]\n",
        "\n",
        "# Run the graph\n",
        "for chunk in graph.stream({\"messages\": input_messages}, config, stream_mode=\"values\"):\n",
        "    chunk[\"messages\"][-1].pretty_print()"
      ],
      "metadata": {
        "id": "kT2vlTrCZ70c",
        "outputId": "f84a0ca9-87e0-4a62-ec77-ccdc237b65f3",
        "colab": {
          "base_uri": "https://localhost:8080/"
        }
      },
      "execution_count": 38,
      "outputs": [
        {
          "output_type": "stream",
          "name": "stdout",
          "text": [
            "================================\u001b[1m Human Message \u001b[0m=================================\n",
            "\n",
            "Recommend a product for me\n",
            "==================================\u001b[1m Ai Message \u001b[0m==================================\n",
            "\n",
            "Certainly! To give you the best recommendations, could you tell me what kind of product you're looking for, or perhaps a price range you have in mind?  I can also suggest products from specific categories if you prefer.\n"
          ]
        }
      ]
    },
    {
      "cell_type": "code",
      "source": [
        "input_messages = [HumanMessage(content=\"Can you recommend me a product under $300\")]\n",
        "\n",
        "# Run the graph\n",
        "for chunk in graph.stream({\"messages\": input_messages}, config, stream_mode=\"values\"):\n",
        "    chunk[\"messages\"][-1].pretty_print()"
      ],
      "metadata": {
        "id": "Q0QWArxcaKje",
        "outputId": "12a2d5c7-c1e2-48c2-d6b3-62d8db0c1aee",
        "colab": {
          "base_uri": "https://localhost:8080/"
        }
      },
      "execution_count": 39,
      "outputs": [
        {
          "output_type": "stream",
          "name": "stdout",
          "text": [
            "================================\u001b[1m Human Message \u001b[0m=================================\n",
            "\n",
            "Can you recommend me a product under $300\n"
          ]
        },
        {
          "output_type": "stream",
          "name": "stderr",
          "text": [
            "WARNING:langchain_google_genai._function_utils:Key 'title' is not supported in schema, ignoring\n"
          ]
        },
        {
          "output_type": "stream",
          "name": "stdout",
          "text": [
            "==================================\u001b[1m Ai Message \u001b[0m==================================\n",
            "Tool Calls:\n",
            "  product_price (b6ea4c66-d8c5-4bae-9e85-8f124d84f1aa)\n",
            " Call ID: b6ea4c66-d8c5-4bae-9e85-8f124d84f1aa\n",
            "  Args:\n",
            "    price_limit: 300.0\n",
            "=================================\u001b[1m Tool Message \u001b[0m=================================\n",
            "Name: product_price\n",
            "\n",
            "[{\"name\": \"Headphones\", \"item_price\": 150}, {\"name\": \"Shirt\", \"item_price\": 80}, {\"name\": \"Jacket\", \"item_price\": 180}, {\"name\": \"Sneakers\", \"item_price\": 200}, {\"name\": \"Blender\", \"item_price\": 120}, {\"name\": \"Microwave\", \"item_price\": 250}, {\"name\": \"Running Shoes\", \"item_price\": 220}, {\"name\": \"Game Controller\", \"item_price\": 60}]\n",
            "==================================\u001b[1m Ai Message \u001b[0m==================================\n",
            "\n",
            "Here are some products under $300:\n",
            "\n",
            "* Headphones ($150)\n",
            "* Shirt ($80)\n",
            "* Jacket ($180)\n",
            "* Sneakers ($200)\n",
            "* Blender ($120)\n",
            "* Microwave ($250)\n",
            "* Running Shoes ($220)\n",
            "* Game Controller ($60)\n",
            "\n",
            "Do any of those sound interesting to you?  Knowing what category you prefer would help me give you more specific recommendations.\n"
          ]
        }
      ]
    },
    {
      "cell_type": "code",
      "source": [
        "input_messages = [HumanMessage(content=\"I want to place an order for the Microwave\")]\n",
        "\n",
        "# Run the graph\n",
        "for chunk in graph.stream({\"messages\": input_messages}, config, stream_mode=\"values\"):\n",
        "    chunk[\"messages\"][-1].pretty_print()"
      ],
      "metadata": {
        "id": "tXmR3e_RaesP",
        "outputId": "2772730e-e776-4b1d-848f-6403502e677e",
        "colab": {
          "base_uri": "https://localhost:8080/"
        }
      },
      "execution_count": 40,
      "outputs": [
        {
          "output_type": "stream",
          "name": "stdout",
          "text": [
            "================================\u001b[1m Human Message \u001b[0m=================================\n",
            "\n",
            "I want to place an order for the Microwave\n",
            "==================================\u001b[1m Ai Message \u001b[0m==================================\n",
            "\n",
            "Okay, what is your shipping address? I will need that information to place your order.\n"
          ]
        }
      ]
    },
    {
      "cell_type": "markdown",
      "source": [
        "# Interrupt Functionality:"
      ],
      "metadata": {
        "id": "AdDeegnIfmV4"
      }
    },
    {
      "cell_type": "code",
      "source": [
        "input_messages=[HumanMessage(content=\"Street: 1960 W Ray Rd #7, City/Town\tChandler, State/Province/Region\tArizona, Zip/Postal Code\t85224, Phone Number\t(480) 814-2820, Country\tUnited States\")]\n",
        "\n",
        "for chunk in graph.stream({\"messages\":input_messages},config,stream_mode=\"values\"):\n",
        "  chunk[\"messages\"][-1].pretty_print()\n",
        "\n"
      ],
      "metadata": {
        "id": "2bYdNvBlaxH_",
        "outputId": "b9a13e20-b1ba-462b-adf7-a2aed7acb23d",
        "colab": {
          "base_uri": "https://localhost:8080/"
        }
      },
      "execution_count": 44,
      "outputs": [
        {
          "output_type": "stream",
          "name": "stdout",
          "text": [
            "================================\u001b[1m Human Message \u001b[0m=================================\n",
            "\n",
            "Street: 1960 W Ray Rd #7, City/Town\tChandler, State/Province/Region\tArizona, Zip/Postal Code\t85224, Phone Number\t(480) 814-2820, Country\tUnited States\n",
            "==================================\u001b[1m Ai Message \u001b[0m==================================\n",
            "Tool Calls:\n",
            "  place_order (8acb7d4a-eb5b-4def-83ad-883bc35f7958)\n",
            " Call ID: 8acb7d4a-eb5b-4def-83ad-883bc35f7958\n",
            "  Args:\n",
            "    address: 1960 W Ray Rd #7, Chandler, Arizona 85224, United States\n",
            "    product_name: Microwave\n",
            "Please check your order for final confirmation\n"
          ]
        }
      ]
    },
    {
      "cell_type": "code",
      "source": [
        "for event in graph.stream(Command(resume=\"Requesting to Start\"), config, stream_mode=\"values\"):\n",
        "    event['messages'][-1].pretty_print()"
      ],
      "metadata": {
        "id": "MzNvL9gFbzls",
        "outputId": "b72f8fde-6419-419b-940e-a06bb9f470cb",
        "colab": {
          "base_uri": "https://localhost:8080/"
        }
      },
      "execution_count": 47,
      "outputs": [
        {
          "output_type": "stream",
          "name": "stdout",
          "text": [
            "==================================\u001b[1m Ai Message \u001b[0m==================================\n",
            "\n",
            "Great! I've made a note that you're interested in kitchen products.  If you have any questions about kitchen appliances or other kitchen items, or would like some recommendations, feel free to ask.\n"
          ]
        }
      ]
    },
    {
      "cell_type": "code",
      "source": [
        "input_messages = [HumanMessage(content=\"I am very much interested in kitchen products\")]\n",
        "\n",
        "# Run the graph\n",
        "for chunk in graph.stream({\"messages\": input_messages}, config, stream_mode=\"values\"):\n",
        "    chunk[\"messages\"][-1].pretty_print()"
      ],
      "metadata": {
        "id": "xH6gOnZcb5jy",
        "outputId": "c2852a72-9f08-4a33-cece-6560265045e1",
        "colab": {
          "base_uri": "https://localhost:8080/"
        }
      },
      "execution_count": 48,
      "outputs": [
        {
          "output_type": "stream",
          "name": "stdout",
          "text": [
            "================================\u001b[1m Human Message \u001b[0m=================================\n",
            "\n",
            "I am very much interested in kitchen products\n",
            "==================================\u001b[1m Ai Message \u001b[0m==================================\n",
            "\n",
            "Excellent!  I've noted your interest in kitchen products. To give you the best recommendations, are you looking for anything specific right now, or do you want a general overview of the kitchen products we offer?  Knowing your preferences (e.g., small appliances, cookware, bakeware, etc.) would also be helpful.\n"
          ]
        }
      ]
    },
    {
      "cell_type": "code",
      "source": [
        "config = {\"configurable\": {\"thread_id\": \"2\", \"user_id\": \"2\"}}\n",
        "\n",
        "# User input\n",
        "input_messages = [HumanMessage(content=\"What product do you recommend me according to my interest?\")]\n",
        "\n",
        "# Run the graph\n",
        "for chunk in graph.stream({\"messages\": input_messages}, config, stream_mode=\"values\"):\n",
        "    chunk[\"messages\"][-1].pretty_print()"
      ],
      "metadata": {
        "id": "9CcppQgZcRNQ",
        "outputId": "a882ad02-ba21-4312-c264-52a067a1c980",
        "colab": {
          "base_uri": "https://localhost:8080/"
        }
      },
      "execution_count": 50,
      "outputs": [
        {
          "output_type": "stream",
          "name": "stdout",
          "text": [
            "================================\u001b[1m Human Message \u001b[0m=================================\n",
            "\n",
            "What product do you recommend me according to my interest?\n",
            "==================================\u001b[1m Ai Message \u001b[0m==================================\n",
            "\n",
            "Based on our previous conversation, you've shown interest in gaming products and kitchen appliances (since you previously ordered a microwave and blender).\n",
            "\n",
            "Therefore, I recommend you consider:\n",
            "\n",
            "* **Gaming:** A Game Controller or Gaming Console (as discussed earlier).  To give you more specific recommendations, could you tell me what type of games you enjoy or what platform you prefer (e.g., Playstation, Xbox, PC)?\n",
            "\n",
            "* **Kitchen:**  Since you already have a microwave and blender, perhaps you might be interested in other small kitchen appliances like a food processor, stand mixer, or coffee maker.  Do any of those sound interesting?\n",
            "\n",
            "\n",
            "To give you better recommendations, providing more details about your preferences would be helpful.\n"
          ]
        }
      ]
    },
    {
      "cell_type": "code",
      "source": [
        "user_id = \"2\"\n",
        "namespace = (\"memories\", user_id)\n",
        "memories = across_thread_memory.search(namespace)\n",
        "for m in memories:\n",
        "    print(m.dict())"
      ],
      "metadata": {
        "id": "qKkQyC3Ndx6p",
        "outputId": "7d8fe674-fc48-4949-bf34-0c3ba32d1100",
        "colab": {
          "base_uri": "https://localhost:8080/"
        }
      },
      "execution_count": 51,
      "outputs": [
        {
          "output_type": "stream",
          "name": "stdout",
          "text": [
            "{'namespace': ['memories', '2'], 'key': '7bdfd6ff-dbe9-4d90-b335-ce699522ebf2', 'value': {'content': \"User placed an order for a Microwave and a Blender. User's address is 1960 W Ray Rd #7, Chandler, Arizona 85224, United States. Phone number is (480) 814-2820.\"}, 'created_at': '2025-01-14T10:50:04.503187+00:00', 'updated_at': '2025-01-14T10:50:04.503190+00:00', 'score': None}\n"
          ]
        }
      ]
    }
  ]
}